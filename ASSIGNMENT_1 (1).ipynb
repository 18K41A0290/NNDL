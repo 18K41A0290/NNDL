{
  "nbformat": 4,
  "nbformat_minor": 0,
  "metadata": {
    "colab": {
      "name": "ASSIGNMENT-1.ipynb",
      "provenance": []
    },
    "kernelspec": {
      "name": "python3",
      "display_name": "Python 3"
    },
    "language_info": {
      "name": "python"
    }
  },
  "cells": [
    {
      "cell_type": "code",
      "metadata": {
        "colab": {
          "base_uri": "https://localhost:8080/"
        },
        "id": "n4xEyuZEA9aU",
        "outputId": "5756d10f-3e82-4af4-bf6d-076ff4096e9b"
      },
      "source": [
        "\n",
        "# given function is pow(x,4)+3*pow(x,2)+10\n",
        "\n",
        "x = 3 # initial x value\n",
        "learning_rate = 0.01 # learning rate\n",
        "print(\"learning rate : \",learning_rate)\n",
        "print(\"Initial x : \",x)\n",
        "\n",
        "print(\"\\nEpoch 1\")\n",
        "gradient_f_at_x = (4*x**3 + 6*x)\n",
        "print(\"gradient_f_at_x : \",gradient_f_at_x)\n",
        "delta_x = -1*learning_rate*gradient_f_at_x\n",
        "print(\"delta_x : \",delta_x)\n",
        "x = x + delta_x\n",
        "print(\"x : \",x)\n",
        "\n",
        "print(\"\\nEpoch 2\")\n",
        "gradient_f_at_x = (4*x**3 + 6*x)\n",
        "print(\"gradient_f_at_x : \",gradient_f_at_x)\n",
        "delta_x = -1*learning_rate*gradient_f_at_x\n",
        "print(\"delta_x : \",delta_x)\n",
        "x = x + delta_x\n",
        "print(\"x : \",x)"
      ],
      "execution_count": 1,
      "outputs": [
        {
          "output_type": "stream",
          "text": [
            "learning rate :  0.01\n",
            "Initial x :  3\n",
            "\n",
            "Epoch 1\n",
            "gradient_f_at_x :  126\n",
            "delta_x :  -1.26\n",
            "x :  1.74\n",
            "\n",
            "Epoch 2\n",
            "gradient_f_at_x :  31.512096\n",
            "delta_x :  -0.31512096\n",
            "x :  1.42487904\n"
          ],
          "name": "stdout"
        }
      ]
    },
    {
      "cell_type": "code",
      "metadata": {
        "id": "X7PR3nUDBTPi"
      },
      "source": [
        "# given function is pow(x,4)+3*pow(x,2)+10\n",
        "\n",
        "x = 3 # initial x value\n",
        "learning_rate = 0.01 # learning rate\n",
        "epochs = 100 # number of epochs\n",
        "\n",
        "# function to find the gradient descent\n",
        "def gradient(x):\n",
        "  return 4*pow(x,3)+6*x"
      ],
      "execution_count": 3,
      "outputs": []
    },
    {
      "cell_type": "code",
      "metadata": {
        "id": "0OUMp5j-BdA6"
      },
      "source": [
        "\n",
        "# training loop\n",
        "for i in range(0,epochs):\n",
        "  grad = gradient(x)\n",
        "  delta_x = -1*learning_rate*grad\n",
        "  x = x + delta_x"
      ],
      "execution_count": 4,
      "outputs": []
    },
    {
      "cell_type": "code",
      "metadata": {
        "colab": {
          "base_uri": "https://localhost:8080/"
        },
        "id": "Zl7zBZ2pBi3L",
        "outputId": "9de7e7ef-b908-4e2e-dd98-1a74b58ff24d"
      },
      "source": [
        "\n",
        "# optimal value of x\n",
        "print(x)"
      ],
      "execution_count": 5,
      "outputs": [
        {
          "output_type": "stream",
          "text": [
            "0.002069222197565439\n"
          ],
          "name": "stdout"
        }
      ]
    },
    {
      "cell_type": "code",
      "metadata": {
        "colab": {
          "base_uri": "https://localhost:8080/"
        },
        "id": "sVMEBKrbBpTu",
        "outputId": "1ed1ced6-351c-4e19-f05c-7a81fed83a39"
      },
      "source": [
        "# minimal value of the given function\n",
        "print(pow(x,4)+3*pow(x,2)+10)"
      ],
      "execution_count": 6,
      "outputs": [
        {
          "output_type": "stream",
          "text": [
            "10.00001284505984\n"
          ],
          "name": "stdout"
        }
      ]
    }
  ]
}