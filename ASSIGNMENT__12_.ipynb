{
  "nbformat": 4,
  "nbformat_minor": 0,
  "metadata": {
    "colab": {
      "name": "ASSIGNMENT__-12 .ipynb",
      "provenance": []
    },
    "kernelspec": {
      "name": "python3",
      "display_name": "Python 3"
    },
    "language_info": {
      "name": "python"
    }
  },
  "cells": [
    {
      "cell_type": "code",
      "metadata": {
        "id": "qB1QBtw-i4_T"
      },
      "source": [
        "import pandas as pd\n",
        "import numpy as np\n",
        "import math\n",
        "import random\n",
        "import matplotlib.pyplot as plt\n",
        "from random import shuffle\n",
        "from sklearn.preprocessing import minmax_scale\n",
        "from sklearn.model_selection import train_test_split"
      ],
      "execution_count": 1,
      "outputs": []
    },
    {
      "cell_type": "code",
      "metadata": {
        "colab": {
          "base_uri": "https://localhost:8080/",
          "height": 204
        },
        "id": "p_iUt-1qjfG2",
        "outputId": "a97fc075-9847-4359-8420-4619c9059647"
      },
      "source": [
        "\n",
        "load_data = pd.read_excel(\"/content/drive/MyDrive/Load Data in kW (1).xlsx\")\n",
        "load_data.head()"
      ],
      "execution_count": 2,
      "outputs": [
        {
          "output_type": "execute_result",
          "data": {
            "text/html": [
              "<div>\n",
              "<style scoped>\n",
              "    .dataframe tbody tr th:only-of-type {\n",
              "        vertical-align: middle;\n",
              "    }\n",
              "\n",
              "    .dataframe tbody tr th {\n",
              "        vertical-align: top;\n",
              "    }\n",
              "\n",
              "    .dataframe thead th {\n",
              "        text-align: right;\n",
              "    }\n",
              "</style>\n",
              "<table border=\"1\" class=\"dataframe\">\n",
              "  <thead>\n",
              "    <tr style=\"text-align: right;\">\n",
              "      <th></th>\n",
              "      <th>5551.82208</th>\n",
              "    </tr>\n",
              "  </thead>\n",
              "  <tbody>\n",
              "    <tr>\n",
              "      <th>0</th>\n",
              "      <td>4983.17184</td>\n",
              "    </tr>\n",
              "    <tr>\n",
              "      <th>1</th>\n",
              "      <td>4888.39680</td>\n",
              "    </tr>\n",
              "    <tr>\n",
              "      <th>2</th>\n",
              "      <td>5072.95872</td>\n",
              "    </tr>\n",
              "    <tr>\n",
              "      <th>3</th>\n",
              "      <td>5196.25980</td>\n",
              "    </tr>\n",
              "    <tr>\n",
              "      <th>4</th>\n",
              "      <td>5641.29720</td>\n",
              "    </tr>\n",
              "  </tbody>\n",
              "</table>\n",
              "</div>"
            ],
            "text/plain": [
              "   5551.82208\n",
              "0  4983.17184\n",
              "1  4888.39680\n",
              "2  5072.95872\n",
              "3  5196.25980\n",
              "4  5641.29720"
            ]
          },
          "metadata": {
            "tags": []
          },
          "execution_count": 2
        }
      ]
    },
    {
      "cell_type": "code",
      "metadata": {
        "colab": {
          "base_uri": "https://localhost:8080/",
          "height": 297
        },
        "id": "XpA5DbfFj3G6",
        "outputId": "82a6f258-2087-4e46-88f5-5d0dfce6597e"
      },
      "source": [
        "load_data.describe()"
      ],
      "execution_count": 3,
      "outputs": [
        {
          "output_type": "execute_result",
          "data": {
            "text/html": [
              "<div>\n",
              "<style scoped>\n",
              "    .dataframe tbody tr th:only-of-type {\n",
              "        vertical-align: middle;\n",
              "    }\n",
              "\n",
              "    .dataframe tbody tr th {\n",
              "        vertical-align: top;\n",
              "    }\n",
              "\n",
              "    .dataframe thead th {\n",
              "        text-align: right;\n",
              "    }\n",
              "</style>\n",
              "<table border=\"1\" class=\"dataframe\">\n",
              "  <thead>\n",
              "    <tr style=\"text-align: right;\">\n",
              "      <th></th>\n",
              "      <th>5551.82208</th>\n",
              "    </tr>\n",
              "  </thead>\n",
              "  <tbody>\n",
              "    <tr>\n",
              "      <th>count</th>\n",
              "      <td>2183.000000</td>\n",
              "    </tr>\n",
              "    <tr>\n",
              "      <th>mean</th>\n",
              "      <td>6393.616060</td>\n",
              "    </tr>\n",
              "    <tr>\n",
              "      <th>std</th>\n",
              "      <td>17143.020064</td>\n",
              "    </tr>\n",
              "    <tr>\n",
              "      <th>min</th>\n",
              "      <td>3377.919600</td>\n",
              "    </tr>\n",
              "    <tr>\n",
              "      <th>25%</th>\n",
              "      <td>5257.520640</td>\n",
              "    </tr>\n",
              "    <tr>\n",
              "      <th>50%</th>\n",
              "      <td>5935.910400</td>\n",
              "    </tr>\n",
              "    <tr>\n",
              "      <th>75%</th>\n",
              "      <td>6738.692400</td>\n",
              "    </tr>\n",
              "    <tr>\n",
              "      <th>max</th>\n",
              "      <td>805444.430400</td>\n",
              "    </tr>\n",
              "  </tbody>\n",
              "</table>\n",
              "</div>"
            ],
            "text/plain": [
              "          5551.82208\n",
              "count    2183.000000\n",
              "mean     6393.616060\n",
              "std     17143.020064\n",
              "min      3377.919600\n",
              "25%      5257.520640\n",
              "50%      5935.910400\n",
              "75%      6738.692400\n",
              "max    805444.430400"
            ]
          },
          "metadata": {
            "tags": []
          },
          "execution_count": 3
        }
      ]
    },
    {
      "cell_type": "code",
      "metadata": {
        "colab": {
          "base_uri": "https://localhost:8080/"
        },
        "id": "DQ1DSZT9j_ZS",
        "outputId": "3b89f547-3b07-47c7-e2c6-27cbde0ceaa9"
      },
      "source": [
        "load_data.info()"
      ],
      "execution_count": 4,
      "outputs": [
        {
          "output_type": "stream",
          "text": [
            "<class 'pandas.core.frame.DataFrame'>\n",
            "RangeIndex: 2183 entries, 0 to 2182\n",
            "Data columns (total 1 columns):\n",
            " #   Column      Non-Null Count  Dtype  \n",
            "---  ------      --------------  -----  \n",
            " 0   5551.82208  2183 non-null   float64\n",
            "dtypes: float64(1)\n",
            "memory usage: 17.2 KB\n"
          ],
          "name": "stdout"
        }
      ]
    },
    {
      "cell_type": "code",
      "metadata": {
        "colab": {
          "base_uri": "https://localhost:8080/",
          "height": 401
        },
        "id": "ZpSKddAZkEes",
        "outputId": "40db1476-54a1-41bb-dc46-cc61fb14d740"
      },
      "source": [
        "plt.boxplot(load_data.iloc[:,0])"
      ],
      "execution_count": 5,
      "outputs": [
        {
          "output_type": "execute_result",
          "data": {
            "text/plain": [
              "{'boxes': [<matplotlib.lines.Line2D at 0x7fd4d6599710>],\n",
              " 'caps': [<matplotlib.lines.Line2D at 0x7fd4d65b2590>,\n",
              "  <matplotlib.lines.Line2D at 0x7fd4d65b2e50>],\n",
              " 'fliers': [<matplotlib.lines.Line2D at 0x7fd4d65b6dd0>],\n",
              " 'means': [],\n",
              " 'medians': [<matplotlib.lines.Line2D at 0x7fd4d65b6610>],\n",
              " 'whiskers': [<matplotlib.lines.Line2D at 0x7fd4d65af450>,\n",
              "  <matplotlib.lines.Line2D at 0x7fd4d65afd10>]}"
            ]
          },
          "metadata": {
            "tags": []
          },
          "execution_count": 5
        },
        {
          "output_type": "display_data",
          "data": {
            "image/png": "[encoded data removed]",
            "text/plain": [
              "<Figure size 432x288 with 1 Axes>"
            ]
          },
          "metadata": {
            "tags": [],
            "needs_background": "light"
          }
        }
      ]
    },
    {
      "cell_type": "code",
      "metadata": {
        "colab": {
          "base_uri": "https://localhost:8080/"
        },
        "id": "3G4MCFsykJa0",
        "outputId": "08c3928f-589b-44a4-d138-b32945e49719"
      },
      "source": [
        "\n",
        "from scipy import stats\n",
        "\n",
        "z = np.abs(stats.zscore(load_data.iloc[:,0]))\n",
        "\n",
        "threshold = 3\n",
        "print(np.where(z > 3))"
      ],
      "execution_count": 8,
      "outputs": [
        {
          "output_type": "stream",
          "text": [
            "(array([928]),)\n"
          ],
          "name": "stdout"
        }
      ]
    },
    {
      "cell_type": "code",
      "metadata": {
        "id": "FwV4XSqEkqfC"
      },
      "source": [
        "load_data.iloc[928,0] = load_data.iloc[927,0]"
      ],
      "execution_count": 9,
      "outputs": []
    },
    {
      "cell_type": "code",
      "metadata": {
        "colab": {
          "base_uri": "https://localhost:8080/",
          "height": 401
        },
        "id": "ODAZKkY4kvsz",
        "outputId": "e907f0fe-ff16-4a7c-ea4c-c2c8fbbafe16"
      },
      "source": [
        "plt.boxplot(load_data.iloc[:,0])"
      ],
      "execution_count": 10,
      "outputs": [
        {
          "output_type": "execute_result",
          "data": {
            "text/plain": [
              "{'boxes': [<matplotlib.lines.Line2D at 0x7fd4d6033cd0>],\n",
              " 'caps': [<matplotlib.lines.Line2D at 0x7fd4d6038d10>,\n",
              "  <matplotlib.lines.Line2D at 0x7fd4d603f290>],\n",
              " 'fliers': [<matplotlib.lines.Line2D at 0x7fd4d603fd50>],\n",
              " 'means': [],\n",
              " 'medians': [<matplotlib.lines.Line2D at 0x7fd4d603f810>],\n",
              " 'whiskers': [<matplotlib.lines.Line2D at 0x7fd4d6038290>,\n",
              "  <matplotlib.lines.Line2D at 0x7fd4d60387d0>]}"
            ]
          },
          "metadata": {
            "tags": []
          },
          "execution_count": 10
        },
        {
          "output_type": "display_data",
          "data": {
            "image/png": "[encoded data removed]",
            "text/plain": [
              "<Figure size 432x288 with 1 Axes>"
            ]
          },
          "metadata": {
            "tags": [],
            "needs_background": "light"
          }
        }
      ]
    },
    {
      "cell_type": "code",
      "metadata": {
        "id": "sOiL0v7mlBgM"
      },
      "source": [
        "x = []\n",
        "y = []\n",
        "for i in range(len(load_data.iloc[:,0])-24):\n",
        "  x.append(load_data.iloc[i,0])\n",
        "  y.append(load_data.iloc[i+24,0])"
      ],
      "execution_count": 11,
      "outputs": []
    },
    {
      "cell_type": "code",
      "metadata": {
        "colab": {
          "base_uri": "https://localhost:8080/",
          "height": 282
        },
        "id": "gX7TTjFPlHRj",
        "outputId": "42f73204-65b1-41d6-b419-97025d89d9b4"
      },
      "source": [
        "plt.scatter(x,y)"
      ],
      "execution_count": 12,
      "outputs": [
        {
          "output_type": "execute_result",
          "data": {
            "text/plain": [
              "<matplotlib.collections.PathCollection at 0x7fd4d5f71110>"
            ]
          },
          "metadata": {
            "tags": []
          },
          "execution_count": 12
        },
        {
          "output_type": "display_data",
          "data": {
            "image/png": "[encoded data removed]",
            "text/plain": [
              "<Figure size 432x288 with 1 Axes>"
            ]
          },
          "metadata": {
            "tags": [],
            "needs_background": "light"
          }
        }
      ]
    },
    {
      "cell_type": "code",
      "metadata": {
        "id": "FhwrjHGnmYiY"
      },
      "source": [
        "def error(d,m,c):\n",
        "  sum = 0\n",
        "  for i in range(len(d)):\n",
        "    sum = sum + math.pow(d[i][1]-m*d[i][0]-c,2)\n",
        "  return 0.5*sum/len(d)\n",
        "\n",
        "def gradm(d,m,c,v_m,v_c,momentum_coeff):\n",
        "  sum = 0\n",
        "  for i in range(len(d)):\n",
        "    sum = sum + (d[i][1]-(m+momentum_coeff*v_m)*d[i][0]-(c+momentum_coeff*v_c))*d[i][0]\n",
        "  return -1*sum/len(d)\n",
        "\n",
        "def gradc(d,m,c,v_m,v_c,momentum_coeff):\n",
        "  sum = 0\n",
        "  for i in range(len(d)):\n",
        "    sum = sum + (d[i][1]-(m+momentum_coeff*v_m)*d[i][0]-(c+momentum_coeff*v_c))\n",
        "  return -1*sum/len(d)"
      ],
      "execution_count": 13,
      "outputs": []
    },
    {
      "cell_type": "code",
      "metadata": {
        "id": "vczjllO2mnV9"
      },
      "source": [
        "learning_rate = 0.01\n",
        "epochs = 20\n",
        "\n",
        "m = 1\n",
        "c = 1\n",
        "\n",
        "v_m = 0\n",
        "v_c = 0\n",
        "momentum_coeff = 0.9\n",
        "\n",
        "batch_size = 500"
      ],
      "execution_count": 14,
      "outputs": []
    },
    {
      "cell_type": "code",
      "metadata": {
        "id": "W_xHV4gJmp9a"
      },
      "source": [
        "x = minmax_scale(x)\n",
        "y = minmax_scale(y)"
      ],
      "execution_count": 15,
      "outputs": []
    },
    {
      "cell_type": "code",
      "metadata": {
        "colab": {
          "base_uri": "https://localhost:8080/"
        },
        "id": "Nd8Td_ywmw-d",
        "outputId": "669fbfb4-d676-467e-bf43-953bfa0ee56a"
      },
      "source": [
        "data = []\n",
        "\n",
        "for i in range(len(x)):\n",
        "  data.append((x[i],y[i]))\n",
        "\n",
        "print(len(data))\n",
        "\n",
        "data_train,data_test = train_test_split(data,test_size=0.1)\n",
        "\n",
        "len(data_train)"
      ],
      "execution_count": 16,
      "outputs": [
        {
          "output_type": "stream",
          "text": [
            "2159\n"
          ],
          "name": "stdout"
        },
        {
          "output_type": "execute_result",
          "data": {
            "text/plain": [
              "1943"
            ]
          },
          "metadata": {
            "tags": []
          },
          "execution_count": 16
        }
      ]
    },
    {
      "cell_type": "code",
      "metadata": {
        "colab": {
          "base_uri": "https://localhost:8080/"
        },
        "id": "Gn4864R7m2p9",
        "outputId": "6f4584a2-c6fd-4fdb-9054-bcb0314cf7e0"
      },
      "source": [
        "\n",
        "error_list = []\n",
        "number_of_batches = (len(data_train)//batch_size)\n",
        "for i in range(epochs):\n",
        "  for j in range(number_of_batches+1):\n",
        "    if j == number_of_batches:\n",
        "      d = data_train[j*batch_size:]\n",
        "    else:\n",
        "      d = data_train[j*batch_size:(j+1)*batch_size]\n",
        "\n",
        "    deltam = -1*learning_rate*gradm(d,m,c,v_m,v_c,momentum_coeff)\n",
        "    deltac = -1*learning_rate*gradc(d,m,c,v_m,v_c,momentum_coeff)\n",
        "\n",
        "    v_m = v_m*momentum_coeff + deltam\n",
        "    v_c = v_c*momentum_coeff + deltac\n",
        "\n",
        "    m = m + v_m\n",
        "    c = c + v_c\n",
        "\n",
        "    print(\"epoch {}, batch {}, error {}\".format(i,j,error(d,m,c)))\n",
        "    error_list.append(error(d,m,c))\n",
        "  random.shuffle(data_train)"
      ],
      "execution_count": 17,
      "outputs": [
        {
          "output_type": "stream",
          "text": [
            "epoch 0, batch 0, error 0.5110235454925459\n",
            "epoch 0, batch 1, error 0.46746856721568486\n",
            "epoch 0, batch 2, error 0.4428739680234212\n",
            "epoch 0, batch 3, error 0.40470355836940414\n",
            "epoch 1, batch 0, error 0.3701502778214269\n",
            "epoch 1, batch 1, error 0.3207650620728613\n",
            "epoch 1, batch 2, error 0.28022719138105845\n",
            "epoch 1, batch 3, error 0.2357872917808251\n",
            "epoch 2, batch 0, error 0.20227193487859602\n",
            "epoch 2, batch 1, error 0.15882181535991852\n",
            "epoch 2, batch 2, error 0.12823829596953853\n",
            "epoch 2, batch 3, error 0.10220199513984703\n",
            "epoch 3, batch 0, error 0.07823035048518656\n",
            "epoch 3, batch 1, error 0.05772625395040708\n",
            "epoch 3, batch 2, error 0.04192211813794811\n",
            "epoch 3, batch 3, error 0.029097810833849647\n",
            "epoch 4, batch 0, error 0.02377794152163573\n",
            "epoch 4, batch 1, error 0.015318050523878498\n",
            "epoch 4, batch 2, error 0.010425195651646315\n",
            "epoch 4, batch 3, error 0.008685141338281722\n",
            "epoch 5, batch 0, error 0.009442831044324144\n",
            "epoch 5, batch 1, error 0.008980070927009226\n",
            "epoch 5, batch 2, error 0.011216897405257652\n",
            "epoch 5, batch 3, error 0.011898910231146873\n",
            "epoch 6, batch 0, error 0.013938038559810064\n",
            "epoch 6, batch 1, error 0.015534193499901747\n",
            "epoch 6, batch 2, error 0.017411620823904145\n",
            "epoch 6, batch 3, error 0.020501932510240777\n",
            "epoch 7, batch 0, error 0.021761796936677798\n",
            "epoch 7, batch 1, error 0.019657701802912996\n",
            "epoch 7, batch 2, error 0.021260214672672566\n",
            "epoch 7, batch 3, error 0.01901782292077469\n",
            "epoch 8, batch 0, error 0.01959447584080652\n",
            "epoch 8, batch 1, error 0.020637733480817565\n",
            "epoch 8, batch 2, error 0.019297343453697102\n",
            "epoch 8, batch 3, error 0.017886375366288208\n",
            "epoch 9, batch 0, error 0.01913379852900568\n",
            "epoch 9, batch 1, error 0.016151182079249288\n",
            "epoch 9, batch 2, error 0.014843933638236145\n",
            "epoch 9, batch 3, error 0.012568467928870678\n",
            "epoch 10, batch 0, error 0.013181097452461476\n",
            "epoch 10, batch 1, error 0.013391772199446301\n",
            "epoch 10, batch 2, error 0.011175940827666429\n",
            "epoch 10, batch 3, error 0.010614995414144106\n",
            "epoch 11, batch 0, error 0.0111953321257942\n",
            "epoch 11, batch 1, error 0.009482205880091075\n",
            "epoch 11, batch 2, error 0.009643971841014799\n",
            "epoch 11, batch 3, error 0.009391466260983344\n",
            "epoch 12, batch 0, error 0.00980091469611808\n",
            "epoch 12, batch 1, error 0.00719918673004793\n",
            "epoch 12, batch 2, error 0.009755372387543416\n",
            "epoch 12, batch 3, error 0.00978673965318068\n",
            "epoch 13, batch 0, error 0.008823519932001223\n",
            "epoch 13, batch 1, error 0.008954737848824392\n",
            "epoch 13, batch 2, error 0.009250201312592379\n",
            "epoch 13, batch 3, error 0.008923668365295288\n",
            "epoch 14, batch 0, error 0.008424944835707836\n",
            "epoch 14, batch 1, error 0.008227848486722422\n",
            "epoch 14, batch 2, error 0.009149331039539679\n",
            "epoch 14, batch 3, error 0.010959953090254538\n",
            "epoch 15, batch 0, error 0.009286944867374889\n",
            "epoch 15, batch 1, error 0.009872758813160921\n",
            "epoch 15, batch 2, error 0.008143354375373599\n",
            "epoch 15, batch 3, error 0.009655979202683835\n",
            "epoch 16, batch 0, error 0.008631890505615735\n",
            "epoch 16, batch 1, error 0.00817663848572634\n",
            "epoch 16, batch 2, error 0.009412708728336534\n",
            "epoch 16, batch 3, error 0.010741790081601237\n",
            "epoch 17, batch 0, error 0.009167900028849096\n",
            "epoch 17, batch 1, error 0.009419999356317458\n",
            "epoch 17, batch 2, error 0.008439140119165387\n",
            "epoch 17, batch 3, error 0.009431074129823079\n",
            "epoch 18, batch 0, error 0.008513396101576082\n",
            "epoch 18, batch 1, error 0.009438328475220017\n",
            "epoch 18, batch 2, error 0.009399272760081043\n",
            "epoch 18, batch 3, error 0.008640305422181234\n",
            "epoch 19, batch 0, error 0.009688424975521574\n",
            "epoch 19, batch 1, error 0.00819711497185246\n",
            "epoch 19, batch 2, error 0.008886513544012048\n",
            "epoch 19, batch 3, error 0.009114118989329465\n"
          ],
          "name": "stdout"
        }
      ]
    },
    {
      "cell_type": "code",
      "metadata": {
        "colab": {
          "base_uri": "https://localhost:8080/",
          "height": 298
        },
        "id": "1Jgm8MYbm_Mn",
        "outputId": "0136d0a3-21be-47f7-ac82-98c40f107789"
      },
      "source": [
        "x1 = range(len(error_list))\n",
        "y1 = error_list\n",
        "\n",
        "plt.plot(x1,y1)\n",
        "plt.title(\"error graph\")"
      ],
      "execution_count": 18,
      "outputs": [
        {
          "output_type": "execute_result",
          "data": {
            "text/plain": [
              "Text(0.5, 1.0, 'error graph')"
            ]
          },
          "metadata": {
            "tags": []
          },
          "execution_count": 18
        },
        {
          "output_type": "display_data",
          "data": {
            "image/png": "[encoded data removed]",
            "text/plain": [
              "<Figure size 432x288 with 1 Axes>"
            ]
          },
          "metadata": {
            "tags": [],
            "needs_background": "light"
          }
        }
      ]
    },
    {
      "cell_type": "code",
      "metadata": {
        "colab": {
          "base_uri": "https://localhost:8080/"
        },
        "id": "5JkbeAr6nIsv",
        "outputId": "e84d7de1-32fb-4633-858b-636133bf642c"
      },
      "source": [
        "print(\"train error :\",error(data_train,m,c))\n",
        "print(\"test error :\",error(data_test,m,c))"
      ],
      "execution_count": 19,
      "outputs": [
        {
          "output_type": "stream",
          "text": [
            "train error : 0.008944174736314123\n",
            "test error : 0.00818312008971291\n"
          ],
          "name": "stdout"
        }
      ]
    },
    {
      "cell_type": "code",
      "metadata": {
        "colab": {
          "base_uri": "https://localhost:8080/"
        },
        "id": "rejij5EhnLx9",
        "outputId": "c87629a6-9226-4c40-9e25-0a3b22e00ebf"
      },
      "source": [
        "print(m,c)"
      ],
      "execution_count": 20,
      "outputs": [
        {
          "output_type": "stream",
          "text": [
            "0.6258457337934812 0.1871604379816984\n"
          ],
          "name": "stdout"
        }
      ]
    },
    {
      "cell_type": "code",
      "metadata": {
        "colab": {
          "base_uri": "https://localhost:8080/",
          "height": 282
        },
        "id": "A8vxfY3jnPlP",
        "outputId": "c25c4749-ac71-4d27-ae18-f53c58f2a3ac"
      },
      "source": [
        "plt.scatter(x,y)"
      ],
      "execution_count": 21,
      "outputs": [
        {
          "output_type": "execute_result",
          "data": {
            "text/plain": [
              "<matplotlib.collections.PathCollection at 0x7fd4d5e5e610>"
            ]
          },
          "metadata": {
            "tags": []
          },
          "execution_count": 21
        },
        {
          "output_type": "display_data",
          "data": {
            "image/png": "[encoded data removed]",
            "text/plain": [
              "<Figure size 432x288 with 1 Axes>"
            ]
          },
          "metadata": {
            "tags": [],
            "needs_background": "light"
          }
        }
      ]
    },
    {
      "cell_type": "code",
      "metadata": {
        "colab": {
          "base_uri": "https://localhost:8080/",
          "height": 298
        },
        "id": "idhzI334nUaI",
        "outputId": "63688bce-9f9f-4987-f2a8-c59a5b233cdc"
      },
      "source": [
        "x1 = x\n",
        "y1 = [i*m+c for i in x1]\n",
        "plt.plot(x1,y1)\n",
        "plt.title(\"predicted line\")"
      ],
      "execution_count": 22,
      "outputs": [
        {
          "output_type": "execute_result",
          "data": {
            "text/plain": [
              "Text(0.5, 1.0, 'predicted line')"
            ]
          },
          "metadata": {
            "tags": []
          },
          "execution_count": 22
        },
        {
          "output_type": "display_data",
          "data": {
            "image/png": "[encoded data removed]",
            "text/plain": [
              "<Figure size 432x288 with 1 Axes>"
            ]
          },
          "metadata": {
            "tags": [],
            "needs_background": "light"
          }
        }
      ]
    },
    {
      "cell_type": "code",
      "metadata": {
        "colab": {
          "base_uri": "https://localhost:8080/",
          "height": 282
        },
        "id": "PCX6zFvpnY7W",
        "outputId": "e4395668-dda0-4c89-89cc-2a3b6c99f87b"
      },
      "source": [
        "plt.scatter(x,y)\n",
        "x1 = x\n",
        "y1 = [i*m+c for i in x1]\n",
        "plt.plot(x1,y1)"
      ],
      "execution_count": 23,
      "outputs": [
        {
          "output_type": "execute_result",
          "data": {
            "text/plain": [
              "[<matplotlib.lines.Line2D at 0x7fd4d65f47d0>]"
            ]
          },
          "metadata": {
            "tags": []
          },
          "execution_count": 23
        },
        {
          "output_type": "display_data",
          "data": {
            "image/png": "[encoded data removed]",
            "text/plain": [
              "<Figure size 432x288 with 1 Axes>"
            ]
          },
          "metadata": {
            "tags": [],
            "needs_background": "light"
          }
        }
      ]
    },
    {
      "cell_type": "code",
      "metadata": {
        "colab": {
          "base_uri": "https://localhost:8080/"
        },
        "id": "rS9dKMbKnl3y",
        "outputId": "1762e6b8-04c5-4f85-a1c8-5ad8a345d18c"
      },
      "source": [
        "\n",
        "input_load = float(input(\"enter yesterday load at this time : \"))\n",
        "\n",
        "max_value = 8841.669480\n",
        "min_value = 3377.919600\n",
        "\n",
        "input_load = (input_load - min_value)/(max_value-min_value)\n",
        "output_load = input_load*m+c\n",
        "\n",
        "output_load = output_load*(max_value-min_value)+min_value\n",
        "\n",
        "print(\"predicted load for this hour is : \",output_load)"
      ],
      "execution_count": 24,
      "outputs": [
        {
          "output_type": "stream",
          "text": [
            "enter yesterday load at this time : 4478\n",
            "predicted load for this hour is :  5088.9980457330785\n"
          ],
          "name": "stdout"
        }
      ]
    }
  ]
}
