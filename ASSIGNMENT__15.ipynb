{
  "nbformat": 4,
  "nbformat_minor": 0,
  "metadata": {
    "colab": {
      "name": "ASSIGNMENT__15.ipynb",
      "provenance": []
    },
    "kernelspec": {
      "name": "python3",
      "display_name": "Python 3"
    },
    "language_info": {
      "name": "python"
    }
  },
  "cells": [
    {
      "cell_type": "code",
      "metadata": {
        "colab": {
          "base_uri": "https://localhost:8080/"
        },
        "id": "t3AjhnX4hejr",
        "outputId": "37d56b1a-567b-4e1c-cb8c-09df9432bf95"
      },
      "source": [
        "from math import *\n",
        "x = [0.2,0.4,0.6,0.8,1.0,1.2]\n",
        "y = [3.4,3.8,4.2,4.6,5.0,5.4]\n",
        "print(\"sample x values : \", x)\n",
        "print(\"sample y values : \", y)\n",
        "\n",
        "m = 1\n",
        "c = -1\n",
        "print(\"initial m value : \",m)\n",
        "print(\"initial c value : \",c)\n",
        "\n",
        "Em = 0\n",
        "Ec = 0\n",
        "e = pow(10,-6)\n",
        "learning_rate = 0.01\n",
        "gama = 0.9\n",
        "print(\"learning rate : \",learning_rate)\n",
        "print(\"Em : \",Em)\n",
        "print(\"Ec : \",Ec)\n",
        "print(\"epsilon : \",e)\n",
        "\n",
        "print(\"\\nSample 1\")\n",
        "gradient_m_at_x0 = -1*(y[0] - m*x[0] - c)*x[0]\n",
        "print(\"gradient of m at x0 : \",gradient_m_at_x0)\n",
        "gradient_c_at_x0 = -1*(y[0] - m*x[0] - c)\n",
        "print(\"gradient of c at x0 : \",gradient_c_at_x0)\n",
        "Em = gama*Em + (1-gama)*gradient_m_at_x0**2\n",
        "print(\"Em : \",Em)\n",
        "Ec = gama*Ec + (1-gama)*gradient_c_at_x0**2\n",
        "print(\"Ec : \",Ec)\n",
        "learning_rate_m = learning_rate/sqrt(Em+e)\n",
        "print(\"learning_rate_m : \",learning_rate_m)\n",
        "learning_rate_c = learning_rate/sqrt(Ec+e)\n",
        "print(\"learning_rate_c : \",learning_rate_c)\n",
        "deltam = -1*learning_rate_m*gradient_m_at_x0\n",
        "deltac = -1*learning_rate_c*gradient_c_at_x0\n",
        "print(\"delta m : \",deltam)\n",
        "print(\"delta c : \",deltac)\n",
        "m = m + deltam\n",
        "print(\"m : \",m)\n",
        "c = c + deltac\n",
        "print(\"c : \",c)\n",
        "\n",
        "print(\"\\nSample 2\")\n",
        "gradient_m_at_x1 = -1*(y[1] - m*x[1] - c)*x[1]\n",
        "print(\"gradient of m at x1 : \",gradient_m_at_x1)\n",
        "gradient_c_at_x1 = -1*(y[1] - m*x[1] - c)\n",
        "print(\"gradient of c at x1 : \",gradient_c_at_x1)\n",
        "Em = gama*Em + (1-gama)*gradient_m_at_x1**2\n",
        "print(\"Em : \",Em)\n",
        "Ec = gama*Ec + (1-gama)*gradient_c_at_x1**2\n",
        "print(\"Ec : \",Ec)\n",
        "learning_rate_m = learning_rate/sqrt(Em+e)\n",
        "print(\"learning_rate_m : \",learning_rate_m)\n",
        "learning_rate_c = learning_rate/sqrt(Ec+e)\n",
        "print(\"learning_rate_c : \",learning_rate_c)\n",
        "deltam = -1*learning_rate*gradient_m_at_x1\n",
        "deltac = -1*learning_rate*gradient_c_at_x1\n",
        "print(\"delta m : \",deltam)\n",
        "print(\"delta c : \",deltac)\n",
        "m = m + deltam\n",
        "print(\"m : \",m)\n",
        "c = c + deltac\n",
        "print(\"c : \",c)"
      ],
      "execution_count": 1,
      "outputs": [
        {
          "output_type": "stream",
          "text": [
            "sample x values :  [0.2, 0.4, 0.6, 0.8, 1.0, 1.2]\n",
            "sample y values :  [3.4, 3.8, 4.2, 4.6, 5.0, 5.4]\n",
            "initial m value :  1\n",
            "initial c value :  -1\n",
            "learning rate :  0.01\n",
            "Em :  0\n",
            "Ec :  0\n",
            "epsilon :  1e-06\n",
            "\n",
            "Sample 1\n",
            "gradient of m at x0 :  -0.8399999999999999\n",
            "gradient of c at x0 :  -4.199999999999999\n",
            "Em :  0.07055999999999996\n",
            "Ec :  1.763999999999999\n",
            "learning_rate_m :  0.03764589585686227\n",
            "learning_rate_c :  0.007529230390075134\n",
            "delta m :  0.0316225525197643\n",
            "delta c :  0.031622767638315556\n",
            "m :  1.0316225525197642\n",
            "c :  -0.9683772323616845\n",
            "\n",
            "Sample 2\n",
            "gradient of m at x1 :  -1.7422912845415117\n",
            "gradient of c at x1 :  -4.355728211353779\n",
            "Em :  0.36706189201893097\n",
            "Ec :  3.4848368251183177\n",
            "learning_rate_m :  0.01650554082067034\n",
            "learning_rate_c :  0.005356840482104353\n",
            "delta m :  0.01742291284541512\n",
            "delta c :  0.04355728211353779\n",
            "m :  1.0490454653651793\n",
            "c :  -0.9248199502481467\n"
          ],
          "name": "stdout"
        }
      ]
    },
    {
      "cell_type": "code",
      "metadata": {
        "id": "r_G27U4yhvhH"
      },
      "source": [
        "import matplotlib.pyplot as plt"
      ],
      "execution_count": 2,
      "outputs": []
    },
    {
      "cell_type": "code",
      "metadata": {
        "colab": {
          "base_uri": "https://localhost:8080/"
        },
        "id": "VyOzM6Vkhzt3",
        "outputId": "8a614b2c-4b31-482d-ec70-47552705f118"
      },
      "source": [
        "x = [0.2,0.4,0.6,0.8,1.0,1.2]\n",
        "y = [3.4,3.8,4.2,4.6,5.0,5.4]\n",
        "\n",
        "m = 1\n",
        "c = -1\n",
        "\n",
        "learning_rate = 0.01\n",
        "### NUMBER OF EPOCHS :( ###\n",
        "epochs = 2000000\n",
        "\n",
        "number_of_samples = 6\n",
        "error_list = []\n",
        "\n",
        "def gradientm(y,x,m,c):\n",
        "    return -1*(y-m*x-c)*x\n",
        "\n",
        "def gradientc(y,x,m,c):\n",
        "    return -1*(y-m*x-c)\n",
        "\n",
        "for i in range(epochs):\n",
        "    for j in range(number_of_samples):\n",
        "        error = 0.5 * (y[j] - m*x[j] - c)**2\n",
        "        error_list.append(error)\n",
        "\n",
        "        gradient_m = gradientm(y[j],x[j],m,c)\n",
        "        gradient_c = gradientc(y[j],x[j],m,c)\n",
        "\n",
        "        Em = Em + gradient_m**2\n",
        "        Ec = Ec + gradient_c**2\n",
        "\n",
        "        learning_rate_m = learning_rate/sqrt(Em+e)\n",
        "        learning_rate_c = learning_rate/sqrt(Ec+e)\n",
        "        \n",
        "        deltam = -1*learning_rate_m*gradient_m\n",
        "        deltac = -1*learning_rate_c*gradient_c\n",
        "        \n",
        "        m = m + deltam\n",
        "        c = c + deltac\n",
        "        \n",
        "print(\"optimal value of m and c using SGD: \",m , c)"
      ],
      "execution_count": 3,
      "outputs": [
        {
          "output_type": "stream",
          "text": [
            "optimal value of m and c using SGD:  2.0000000000149027 2.999999999987665\n"
          ],
          "name": "stdout"
        }
      ]
    },
    {
      "cell_type": "code",
      "metadata": {
        "colab": {
          "base_uri": "https://localhost:8080/",
          "height": 312
        },
        "id": "zLtmrlR4iDsP",
        "outputId": "e7851131-f796-4558-e5dd-8be0b06628bd"
      },
      "source": [
        "x1 = range(epochs*6)\n",
        "y1 = error_list\n",
        "\n",
        "plt.plot(x1,y1)\n",
        "plt.xlabel(\"number of iterations\")\n",
        "plt.ylabel(\"error\")\n",
        "plt.title(\"error graph in case of SGD with RMS optimizer\")"
      ],
      "execution_count": 4,
      "outputs": [
        {
          "output_type": "execute_result",
          "data": {
            "text/plain": [
              "Text(0.5, 1.0, 'error graph in case of SGD with RMS optimizer')"
            ]
          },
          "metadata": {
            "tags": []
          },
          "execution_count": 4
        },
        {
          "output_type": "display_data",
          "data": {
            "image/png": "[encoded data removed]",
            "text/plain": [
              "<Figure size 432x288 with 1 Axes>"
            ]
          },
          "metadata": {
            "tags": [],
            "needs_background": "light"
          }
        }
      ]
    },
    {
      "cell_type": "code",
      "metadata": {
        "colab": {
          "base_uri": "https://localhost:8080/",
          "height": 298
        },
        "id": "KXos6MSHiJtj",
        "outputId": "7fede767-edba-4079-dbe0-a77632e1f898"
      },
      "source": [
        "x2 = range(0,2)\n",
        "y2 = [m*i+c for i in x2]\n",
        "\n",
        "plt.plot(x2,y2)\n",
        "plt.scatter(x,y)\n",
        "plt.title(\"line which is generated after training\")"
      ],
      "execution_count": 5,
      "outputs": [
        {
          "output_type": "execute_result",
          "data": {
            "text/plain": [
              "Text(0.5, 1.0, 'line which is generated after training')"
            ]
          },
          "metadata": {
            "tags": []
          },
          "execution_count": 5
        },
        {
          "output_type": "display_data",
          "data": {
            "image/png": "[encoded data removed]",
            "text/plain": [
              "<Figure size 432x288 with 1 Axes>"
            ]
          },
          "metadata": {
            "tags": [],
            "needs_background": "light"
          }
        }
      ]
    }
  ]
}