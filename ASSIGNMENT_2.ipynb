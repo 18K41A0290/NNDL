{
  "nbformat": 4,
  "nbformat_minor": 0,
  "metadata": {
    "colab": {
      "name": "ASSIGNMENT-2.ipynb",
      "provenance": []
    },
    "kernelspec": {
      "name": "python3",
      "display_name": "Python 3"
    },
    "language_info": {
      "name": "python"
    }
  },
  "cells": [
    {
      "cell_type": "code",
      "metadata": {
        "colab": {
          "base_uri": "https://localhost:8080/"
        },
        "id": "C-tPhK_4Cqe4",
        "outputId": "fa1bd810-bb51-4c04-d472-616a63424e8a"
      },
      "source": [
        "# let us consider the function f(x,y) = x^2 + y^2 + 10\n",
        "\n",
        "x = 5 # initial x value\n",
        "y = 3 # initial y value\n",
        "learning_rate = 0.01 # learning rate\n",
        "print(\"learning rate : \",learning_rate)\n",
        "print(\"Initial x : \",x)\n",
        "print(\"Initial y : \",y)\n",
        "\n",
        "print(\"\\nEpoch 1\")\n",
        "gradient_f_at_x = (2*x)\n",
        "print(\"gradient_f_at_x : \",gradient_f_at_x)\n",
        "gradient_f_at_y = (2*y)\n",
        "print(\"gradient_f_at_y : \",gradient_f_at_y)\n",
        "delta_x = -1*learning_rate*gradient_f_at_x\n",
        "print(\"delta_x : \",delta_x)\n",
        "delta_y = -1*learning_rate*gradient_f_at_y\n",
        "print(\"delta_y : \",delta_y)\n",
        "x = x + delta_x\n",
        "print(\"x : \",x)\n",
        "y = y + delta_y\n",
        "print(\"y : \",y)\n",
        "\n",
        "print(\"\\nEpoch 2\")\n",
        "gradient_f_at_x = (2*x)\n",
        "print(\"gradient_f_at_x : \",gradient_f_at_x)\n",
        "gradient_f_at_y = (2*y)\n",
        "print(\"gradient_f_at_y : \",gradient_f_at_y)\n",
        "delta_x = -1*learning_rate*gradient_f_at_x\n",
        "print(\"delta_x : \",delta_x)\n",
        "delta_y = -1*learning_rate*gradient_f_at_y\n",
        "print(\"delta_y : \",delta_y)\n",
        "x = x + delta_x\n",
        "print(\"x : \",x)\n",
        "y = y + delta_y\n",
        "print(\"y : \",y)"
      ],
      "execution_count": 1,
      "outputs": [
        {
          "output_type": "stream",
          "text": [
            "learning rate :  0.01\n",
            "Initial x :  5\n",
            "Initial y :  3\n",
            "\n",
            "Epoch 1\n",
            "gradient_f_at_x :  10\n",
            "gradient_f_at_y :  6\n",
            "delta_x :  -0.1\n",
            "delta_y :  -0.06\n",
            "x :  4.9\n",
            "y :  2.94\n",
            "\n",
            "Epoch 2\n",
            "gradient_f_at_x :  9.8\n",
            "gradient_f_at_y :  5.88\n",
            "delta_x :  -0.098\n",
            "delta_y :  -0.0588\n",
            "x :  4.8020000000000005\n",
            "y :  2.8811999999999998\n"
          ],
          "name": "stdout"
        }
      ]
    },
    {
      "cell_type": "code",
      "metadata": {
        "id": "fZJkZS6CDBvv"
      },
      "source": [
        "\n",
        "import math"
      ],
      "execution_count": 2,
      "outputs": []
    },
    {
      "cell_type": "code",
      "metadata": {
        "colab": {
          "base_uri": "https://localhost:8080/"
        },
        "id": "FCub6HOUDEg9",
        "outputId": "20e7383f-3261-4612-fa85-aa12d4d18d47"
      },
      "source": [
        "# let us consider the function f(x,y) = x^2 + y^2 + 10\n",
        "\n",
        "\n",
        "epochs = 300\n",
        "learning_rate = 0.01\n",
        "x = 1\n",
        "y = -1\n",
        "\n",
        "def gradientx(x):\n",
        "  # derivative with respect to x\n",
        "\treturn 2*x\n",
        "\t\n",
        "def gradienty(y):\n",
        "  # derivative with respect to y\n",
        "\treturn 2*y\n",
        "\n",
        "for i in range(1,epochs):\n",
        "    deltax = -1*learning_rate*gradientx(x)\n",
        "    deltay = -1*learning_rate*gradienty(y)\n",
        "    x = x + deltax\n",
        "    y = y + deltay\n",
        "    \n",
        "print(\"optimal value of x : \", x)\n",
        "print(\"optimal value of y : \", y)\n",
        "\n",
        "print(\"minimum value is : \", x**2 + y**2 + 10)"
      ],
      "execution_count": 3,
      "outputs": [
        {
          "output_type": "stream",
          "text": [
            "optimal value of x :  0.0023801078244402294\n",
            "optimal value of y :  -0.0023801078244402294\n",
            "minimum value is :  10.000011329826512\n"
          ],
          "name": "stdout"
        }
      ]
    },
    {
      "cell_type": "code",
      "metadata": {
        "colab": {
          "base_uri": "https://localhost:8080/"
        },
        "id": "kIs3wUc2DUIg",
        "outputId": "3326ba8b-1402-4eda-b1b5-e06c2d2c30e2"
      },
      "source": [
        "\n",
        "# let us consider the function f(x,y) = 3*x^2 + 5*e^-y + 10\n",
        "\n",
        "\n",
        "epochs = 300\n",
        "learning_rate = 0.01\n",
        "x = 1\n",
        "y = -1\n",
        "\n",
        "def gradientx(x):\n",
        "  # derivative with respect to x\n",
        "\treturn 6*x\n",
        "\t\n",
        "def gradienty(y):\n",
        "  # derivative with respect to y\n",
        "\treturn -1*5*(math.pow(math.e,-1*y))\n",
        "\n",
        "for i in range(1,epochs):\n",
        "    deltax = -1*learning_rate*gradientx(x)\n",
        "    deltay = -1*learning_rate*gradienty(y)\n",
        "    x = x + deltax\n",
        "    y = y + deltay\n",
        "    \n",
        "print(\"optimal value of x : \", x)\n",
        "print(\"optimal value of y : \", y)\n",
        "\n",
        "print(\"minimum value is : \", 3*math.pow(x,2) + 5*math.pow(math.e,-1*y) + 10)"
      ],
      "execution_count": 4,
      "outputs": [
        {
          "output_type": "stream",
          "text": [
            "optimal value of x :  9.230563755373866e-09\n",
            "optimal value of y :  2.7351741233803066\n",
            "minimum value is :  10.324413542618464\n"
          ],
          "name": "stdout"
        }
      ]
    }
  ]
}