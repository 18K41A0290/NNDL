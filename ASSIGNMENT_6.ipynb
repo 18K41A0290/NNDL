{
  "nbformat": 4,
  "nbformat_minor": 0,
  "metadata": {
    "colab": {
      "name": "ASSIGNMENT-6.ipynb",
      "provenance": []
    },
    "kernelspec": {
      "name": "python3",
      "display_name": "Python 3"
    },
    "language_info": {
      "name": "python"
    }
  },
  "cells": [
    {
      "cell_type": "code",
      "metadata": {
        "id": "PQM09NtTQ2YN"
      },
      "source": [
        "\n",
        "import math\n",
        "import random\n",
        "import matplotlib.pyplot as plt\n",
        "import pandas as pd\n",
        "import numpy as np\n",
        "import seaborn as sns\n",
        "from scipy import stats\n",
        "from sklearn.preprocessing import minmax_scale\n",
        "from sklearn.model_selection import train_test_split\n",
        "from random import shuffle"
      ],
      "execution_count": 1,
      "outputs": []
    },
    {
      "cell_type": "code",
      "metadata": {
        "id": "gNj74UEtRH3X"
      },
      "source": [
        "def error(d,m,c):\n",
        "  sum = 0\n",
        "  for i in range(len(d)):\n",
        "    sum += math.pow(d[i][1]-m*d[i][0]-c,2)\n",
        "  return (1/2)*(1/len(d))*sum"
      ],
      "execution_count": 2,
      "outputs": []
    },
    {
      "cell_type": "code",
      "metadata": {
        "id": "3XpCtAM5RLiG"
      },
      "source": [
        "def gradm(d,m,c):\n",
        "  sum = 0\n",
        "  for i in range(len(d)):\n",
        "    sum = sum + (d[i][1]-m*d[i][0]-c)*d[i][0]\n",
        "  return -1*sum/len(d)"
      ],
      "execution_count": 3,
      "outputs": []
    },
    {
      "cell_type": "code",
      "metadata": {
        "id": "kLFDfBjURQ8t"
      },
      "source": [
        "def gradc(d,m,c):\n",
        "  sum = 0\n",
        "  for i in range(len(d)):\n",
        "    sum = sum + (d[i][1]-m*d[i][0]-c)\n",
        "  return -1*sum/len(d)"
      ],
      "execution_count": 4,
      "outputs": []
    },
    {
      "cell_type": "code",
      "metadata": {
        "colab": {
          "base_uri": "https://localhost:8080/",
          "height": 224
        },
        "id": "xjVntq0nRcWI",
        "outputId": "36825d6b-5052-453a-e905-a98531117773"
      },
      "source": [
        "data = pd.read_csv(\"/content/drive/MyDrive/kc_house_data.csv\")\n",
        "data.head()\n"
      ],
      "execution_count": 9,
      "outputs": [
        {
          "output_type": "execute_result",
          "data": {
            "text/html": [
              "<div>\n",
              "<style scoped>\n",
              "    .dataframe tbody tr th:only-of-type {\n",
              "        vertical-align: middle;\n",
              "    }\n",
              "\n",
              "    .dataframe tbody tr th {\n",
              "        vertical-align: top;\n",
              "    }\n",
              "\n",
              "    .dataframe thead th {\n",
              "        text-align: right;\n",
              "    }\n",
              "</style>\n",
              "<table border=\"1\" class=\"dataframe\">\n",
              "  <thead>\n",
              "    <tr style=\"text-align: right;\">\n",
              "      <th></th>\n",
              "      <th>id</th>\n",
              "      <th>date</th>\n",
              "      <th>price</th>\n",
              "      <th>bedrooms</th>\n",
              "      <th>bathrooms</th>\n",
              "      <th>sqft_living</th>\n",
              "      <th>sqft_lot</th>\n",
              "      <th>floors</th>\n",
              "      <th>waterfront</th>\n",
              "      <th>view</th>\n",
              "      <th>condition</th>\n",
              "      <th>grade</th>\n",
              "      <th>sqft_above</th>\n",
              "      <th>sqft_basement</th>\n",
              "      <th>yr_built</th>\n",
              "      <th>yr_renovated</th>\n",
              "      <th>zipcode</th>\n",
              "      <th>lat</th>\n",
              "      <th>long</th>\n",
              "      <th>sqft_living15</th>\n",
              "      <th>sqft_lot15</th>\n",
              "    </tr>\n",
              "  </thead>\n",
              "  <tbody>\n",
              "    <tr>\n",
              "      <th>0</th>\n",
              "      <td>7129300520</td>\n",
              "      <td>20141013T000000</td>\n",
              "      <td>221900.0</td>\n",
              "      <td>3</td>\n",
              "      <td>1.00</td>\n",
              "      <td>1180</td>\n",
              "      <td>5650</td>\n",
              "      <td>1.0</td>\n",
              "      <td>0</td>\n",
              "      <td>0</td>\n",
              "      <td>3</td>\n",
              "      <td>7</td>\n",
              "      <td>1180</td>\n",
              "      <td>0</td>\n",
              "      <td>1955</td>\n",
              "      <td>0</td>\n",
              "      <td>98178</td>\n",
              "      <td>47.5112</td>\n",
              "      <td>-122.257</td>\n",
              "      <td>1340</td>\n",
              "      <td>5650</td>\n",
              "    </tr>\n",
              "    <tr>\n",
              "      <th>1</th>\n",
              "      <td>6414100192</td>\n",
              "      <td>20141209T000000</td>\n",
              "      <td>538000.0</td>\n",
              "      <td>3</td>\n",
              "      <td>2.25</td>\n",
              "      <td>2570</td>\n",
              "      <td>7242</td>\n",
              "      <td>2.0</td>\n",
              "      <td>0</td>\n",
              "      <td>0</td>\n",
              "      <td>3</td>\n",
              "      <td>7</td>\n",
              "      <td>2170</td>\n",
              "      <td>400</td>\n",
              "      <td>1951</td>\n",
              "      <td>1991</td>\n",
              "      <td>98125</td>\n",
              "      <td>47.7210</td>\n",
              "      <td>-122.319</td>\n",
              "      <td>1690</td>\n",
              "      <td>7639</td>\n",
              "    </tr>\n",
              "    <tr>\n",
              "      <th>2</th>\n",
              "      <td>5631500400</td>\n",
              "      <td>20150225T000000</td>\n",
              "      <td>180000.0</td>\n",
              "      <td>2</td>\n",
              "      <td>1.00</td>\n",
              "      <td>770</td>\n",
              "      <td>10000</td>\n",
              "      <td>1.0</td>\n",
              "      <td>0</td>\n",
              "      <td>0</td>\n",
              "      <td>3</td>\n",
              "      <td>6</td>\n",
              "      <td>770</td>\n",
              "      <td>0</td>\n",
              "      <td>1933</td>\n",
              "      <td>0</td>\n",
              "      <td>98028</td>\n",
              "      <td>47.7379</td>\n",
              "      <td>-122.233</td>\n",
              "      <td>2720</td>\n",
              "      <td>8062</td>\n",
              "    </tr>\n",
              "    <tr>\n",
              "      <th>3</th>\n",
              "      <td>2487200875</td>\n",
              "      <td>20141209T000000</td>\n",
              "      <td>604000.0</td>\n",
              "      <td>4</td>\n",
              "      <td>3.00</td>\n",
              "      <td>1960</td>\n",
              "      <td>5000</td>\n",
              "      <td>1.0</td>\n",
              "      <td>0</td>\n",
              "      <td>0</td>\n",
              "      <td>5</td>\n",
              "      <td>7</td>\n",
              "      <td>1050</td>\n",
              "      <td>910</td>\n",
              "      <td>1965</td>\n",
              "      <td>0</td>\n",
              "      <td>98136</td>\n",
              "      <td>47.5208</td>\n",
              "      <td>-122.393</td>\n",
              "      <td>1360</td>\n",
              "      <td>5000</td>\n",
              "    </tr>\n",
              "    <tr>\n",
              "      <th>4</th>\n",
              "      <td>1954400510</td>\n",
              "      <td>20150218T000000</td>\n",
              "      <td>510000.0</td>\n",
              "      <td>3</td>\n",
              "      <td>2.00</td>\n",
              "      <td>1680</td>\n",
              "      <td>8080</td>\n",
              "      <td>1.0</td>\n",
              "      <td>0</td>\n",
              "      <td>0</td>\n",
              "      <td>3</td>\n",
              "      <td>8</td>\n",
              "      <td>1680</td>\n",
              "      <td>0</td>\n",
              "      <td>1987</td>\n",
              "      <td>0</td>\n",
              "      <td>98074</td>\n",
              "      <td>47.6168</td>\n",
              "      <td>-122.045</td>\n",
              "      <td>1800</td>\n",
              "      <td>7503</td>\n",
              "    </tr>\n",
              "  </tbody>\n",
              "</table>\n",
              "</div>"
            ],
            "text/plain": [
              "           id             date     price  ...     long  sqft_living15  sqft_lot15\n",
              "0  7129300520  20141013T000000  221900.0  ... -122.257           1340        5650\n",
              "1  6414100192  20141209T000000  538000.0  ... -122.319           1690        7639\n",
              "2  5631500400  20150225T000000  180000.0  ... -122.233           2720        8062\n",
              "3  2487200875  20141209T000000  604000.0  ... -122.393           1360        5000\n",
              "4  1954400510  20150218T000000  510000.0  ... -122.045           1800        7503\n",
              "\n",
              "[5 rows x 21 columns]"
            ]
          },
          "metadata": {
            "tags": []
          },
          "execution_count": 9
        }
      ]
    },
    {
      "cell_type": "code",
      "metadata": {
        "colab": {
          "base_uri": "https://localhost:8080/",
          "height": 317
        },
        "id": "sBMgs2nWSm0v",
        "outputId": "fbbb8b09-5cbc-49aa-c42a-70559d8d49a4"
      },
      "source": [
        "data.describe()"
      ],
      "execution_count": 10,
      "outputs": [
        {
          "output_type": "execute_result",
          "data": {
            "text/html": [
              "<div>\n",
              "<style scoped>\n",
              "    .dataframe tbody tr th:only-of-type {\n",
              "        vertical-align: middle;\n",
              "    }\n",
              "\n",
              "    .dataframe tbody tr th {\n",
              "        vertical-align: top;\n",
              "    }\n",
              "\n",
              "    .dataframe thead th {\n",
              "        text-align: right;\n",
              "    }\n",
              "</style>\n",
              "<table border=\"1\" class=\"dataframe\">\n",
              "  <thead>\n",
              "    <tr style=\"text-align: right;\">\n",
              "      <th></th>\n",
              "      <th>id</th>\n",
              "      <th>price</th>\n",
              "      <th>bedrooms</th>\n",
              "      <th>bathrooms</th>\n",
              "      <th>sqft_living</th>\n",
              "      <th>sqft_lot</th>\n",
              "      <th>floors</th>\n",
              "      <th>waterfront</th>\n",
              "      <th>view</th>\n",
              "      <th>condition</th>\n",
              "      <th>grade</th>\n",
              "      <th>sqft_above</th>\n",
              "      <th>sqft_basement</th>\n",
              "      <th>yr_built</th>\n",
              "      <th>yr_renovated</th>\n",
              "      <th>zipcode</th>\n",
              "      <th>lat</th>\n",
              "      <th>long</th>\n",
              "      <th>sqft_living15</th>\n",
              "      <th>sqft_lot15</th>\n",
              "    </tr>\n",
              "  </thead>\n",
              "  <tbody>\n",
              "    <tr>\n",
              "      <th>count</th>\n",
              "      <td>2.161300e+04</td>\n",
              "      <td>2.161300e+04</td>\n",
              "      <td>21613.000000</td>\n",
              "      <td>21613.000000</td>\n",
              "      <td>21613.000000</td>\n",
              "      <td>2.161300e+04</td>\n",
              "      <td>21613.000000</td>\n",
              "      <td>21613.000000</td>\n",
              "      <td>21613.000000</td>\n",
              "      <td>21613.000000</td>\n",
              "      <td>21613.000000</td>\n",
              "      <td>21613.000000</td>\n",
              "      <td>21613.000000</td>\n",
              "      <td>21613.000000</td>\n",
              "      <td>21613.000000</td>\n",
              "      <td>21613.000000</td>\n",
              "      <td>21613.000000</td>\n",
              "      <td>21613.000000</td>\n",
              "      <td>21613.000000</td>\n",
              "      <td>21613.000000</td>\n",
              "    </tr>\n",
              "    <tr>\n",
              "      <th>mean</th>\n",
              "      <td>4.580302e+09</td>\n",
              "      <td>5.400881e+05</td>\n",
              "      <td>3.370842</td>\n",
              "      <td>2.114757</td>\n",
              "      <td>2079.899736</td>\n",
              "      <td>1.510697e+04</td>\n",
              "      <td>1.494309</td>\n",
              "      <td>0.007542</td>\n",
              "      <td>0.234303</td>\n",
              "      <td>3.409430</td>\n",
              "      <td>7.656873</td>\n",
              "      <td>1788.390691</td>\n",
              "      <td>291.509045</td>\n",
              "      <td>1971.005136</td>\n",
              "      <td>84.402258</td>\n",
              "      <td>98077.939805</td>\n",
              "      <td>47.560053</td>\n",
              "      <td>-122.213896</td>\n",
              "      <td>1986.552492</td>\n",
              "      <td>12768.455652</td>\n",
              "    </tr>\n",
              "    <tr>\n",
              "      <th>std</th>\n",
              "      <td>2.876566e+09</td>\n",
              "      <td>3.671272e+05</td>\n",
              "      <td>0.930062</td>\n",
              "      <td>0.770163</td>\n",
              "      <td>918.440897</td>\n",
              "      <td>4.142051e+04</td>\n",
              "      <td>0.539989</td>\n",
              "      <td>0.086517</td>\n",
              "      <td>0.766318</td>\n",
              "      <td>0.650743</td>\n",
              "      <td>1.175459</td>\n",
              "      <td>828.090978</td>\n",
              "      <td>442.575043</td>\n",
              "      <td>29.373411</td>\n",
              "      <td>401.679240</td>\n",
              "      <td>53.505026</td>\n",
              "      <td>0.138564</td>\n",
              "      <td>0.140828</td>\n",
              "      <td>685.391304</td>\n",
              "      <td>27304.179631</td>\n",
              "    </tr>\n",
              "    <tr>\n",
              "      <th>min</th>\n",
              "      <td>1.000102e+06</td>\n",
              "      <td>7.500000e+04</td>\n",
              "      <td>0.000000</td>\n",
              "      <td>0.000000</td>\n",
              "      <td>290.000000</td>\n",
              "      <td>5.200000e+02</td>\n",
              "      <td>1.000000</td>\n",
              "      <td>0.000000</td>\n",
              "      <td>0.000000</td>\n",
              "      <td>1.000000</td>\n",
              "      <td>1.000000</td>\n",
              "      <td>290.000000</td>\n",
              "      <td>0.000000</td>\n",
              "      <td>1900.000000</td>\n",
              "      <td>0.000000</td>\n",
              "      <td>98001.000000</td>\n",
              "      <td>47.155900</td>\n",
              "      <td>-122.519000</td>\n",
              "      <td>399.000000</td>\n",
              "      <td>651.000000</td>\n",
              "    </tr>\n",
              "    <tr>\n",
              "      <th>25%</th>\n",
              "      <td>2.123049e+09</td>\n",
              "      <td>3.219500e+05</td>\n",
              "      <td>3.000000</td>\n",
              "      <td>1.750000</td>\n",
              "      <td>1427.000000</td>\n",
              "      <td>5.040000e+03</td>\n",
              "      <td>1.000000</td>\n",
              "      <td>0.000000</td>\n",
              "      <td>0.000000</td>\n",
              "      <td>3.000000</td>\n",
              "      <td>7.000000</td>\n",
              "      <td>1190.000000</td>\n",
              "      <td>0.000000</td>\n",
              "      <td>1951.000000</td>\n",
              "      <td>0.000000</td>\n",
              "      <td>98033.000000</td>\n",
              "      <td>47.471000</td>\n",
              "      <td>-122.328000</td>\n",
              "      <td>1490.000000</td>\n",
              "      <td>5100.000000</td>\n",
              "    </tr>\n",
              "    <tr>\n",
              "      <th>50%</th>\n",
              "      <td>3.904930e+09</td>\n",
              "      <td>4.500000e+05</td>\n",
              "      <td>3.000000</td>\n",
              "      <td>2.250000</td>\n",
              "      <td>1910.000000</td>\n",
              "      <td>7.618000e+03</td>\n",
              "      <td>1.500000</td>\n",
              "      <td>0.000000</td>\n",
              "      <td>0.000000</td>\n",
              "      <td>3.000000</td>\n",
              "      <td>7.000000</td>\n",
              "      <td>1560.000000</td>\n",
              "      <td>0.000000</td>\n",
              "      <td>1975.000000</td>\n",
              "      <td>0.000000</td>\n",
              "      <td>98065.000000</td>\n",
              "      <td>47.571800</td>\n",
              "      <td>-122.230000</td>\n",
              "      <td>1840.000000</td>\n",
              "      <td>7620.000000</td>\n",
              "    </tr>\n",
              "    <tr>\n",
              "      <th>75%</th>\n",
              "      <td>7.308900e+09</td>\n",
              "      <td>6.450000e+05</td>\n",
              "      <td>4.000000</td>\n",
              "      <td>2.500000</td>\n",
              "      <td>2550.000000</td>\n",
              "      <td>1.068800e+04</td>\n",
              "      <td>2.000000</td>\n",
              "      <td>0.000000</td>\n",
              "      <td>0.000000</td>\n",
              "      <td>4.000000</td>\n",
              "      <td>8.000000</td>\n",
              "      <td>2210.000000</td>\n",
              "      <td>560.000000</td>\n",
              "      <td>1997.000000</td>\n",
              "      <td>0.000000</td>\n",
              "      <td>98118.000000</td>\n",
              "      <td>47.678000</td>\n",
              "      <td>-122.125000</td>\n",
              "      <td>2360.000000</td>\n",
              "      <td>10083.000000</td>\n",
              "    </tr>\n",
              "    <tr>\n",
              "      <th>max</th>\n",
              "      <td>9.900000e+09</td>\n",
              "      <td>7.700000e+06</td>\n",
              "      <td>33.000000</td>\n",
              "      <td>8.000000</td>\n",
              "      <td>13540.000000</td>\n",
              "      <td>1.651359e+06</td>\n",
              "      <td>3.500000</td>\n",
              "      <td>1.000000</td>\n",
              "      <td>4.000000</td>\n",
              "      <td>5.000000</td>\n",
              "      <td>13.000000</td>\n",
              "      <td>9410.000000</td>\n",
              "      <td>4820.000000</td>\n",
              "      <td>2015.000000</td>\n",
              "      <td>2015.000000</td>\n",
              "      <td>98199.000000</td>\n",
              "      <td>47.777600</td>\n",
              "      <td>-121.315000</td>\n",
              "      <td>6210.000000</td>\n",
              "      <td>871200.000000</td>\n",
              "    </tr>\n",
              "  </tbody>\n",
              "</table>\n",
              "</div>"
            ],
            "text/plain": [
              "                 id         price  ...  sqft_living15     sqft_lot15\n",
              "count  2.161300e+04  2.161300e+04  ...   21613.000000   21613.000000\n",
              "mean   4.580302e+09  5.400881e+05  ...    1986.552492   12768.455652\n",
              "std    2.876566e+09  3.671272e+05  ...     685.391304   27304.179631\n",
              "min    1.000102e+06  7.500000e+04  ...     399.000000     651.000000\n",
              "25%    2.123049e+09  3.219500e+05  ...    1490.000000    5100.000000\n",
              "50%    3.904930e+09  4.500000e+05  ...    1840.000000    7620.000000\n",
              "75%    7.308900e+09  6.450000e+05  ...    2360.000000   10083.000000\n",
              "max    9.900000e+09  7.700000e+06  ...    6210.000000  871200.000000\n",
              "\n",
              "[8 rows x 20 columns]"
            ]
          },
          "metadata": {
            "tags": []
          },
          "execution_count": 10
        }
      ]
    },
    {
      "cell_type": "code",
      "metadata": {
        "colab": {
          "base_uri": "https://localhost:8080/"
        },
        "id": "8q9GBRkiSssH",
        "outputId": "5ec2147f-d567-4983-9ef3-ae114d733bcf"
      },
      "source": [
        "\n",
        "data.corr()['price']"
      ],
      "execution_count": 11,
      "outputs": [
        {
          "output_type": "execute_result",
          "data": {
            "text/plain": [
              "id              -0.016762\n",
              "price            1.000000\n",
              "bedrooms         0.308350\n",
              "bathrooms        0.525138\n",
              "sqft_living      0.702035\n",
              "sqft_lot         0.089661\n",
              "floors           0.256794\n",
              "waterfront       0.266369\n",
              "view             0.397293\n",
              "condition        0.036362\n",
              "grade            0.667434\n",
              "sqft_above       0.605567\n",
              "sqft_basement    0.323816\n",
              "yr_built         0.054012\n",
              "yr_renovated     0.126434\n",
              "zipcode         -0.053203\n",
              "lat              0.307003\n",
              "long             0.021626\n",
              "sqft_living15    0.585379\n",
              "sqft_lot15       0.082447\n",
              "Name: price, dtype: float64"
            ]
          },
          "metadata": {
            "tags": []
          },
          "execution_count": 11
        }
      ]
    },
    {
      "cell_type": "code",
      "metadata": {
        "colab": {
          "base_uri": "https://localhost:8080/"
        },
        "id": "6-fVeATZSvHS",
        "outputId": "02c516f6-340b-495f-e991-05c7d9da24e1"
      },
      "source": [
        "data.info()"
      ],
      "execution_count": 12,
      "outputs": [
        {
          "output_type": "stream",
          "text": [
            "<class 'pandas.core.frame.DataFrame'>\n",
            "RangeIndex: 21613 entries, 0 to 21612\n",
            "Data columns (total 21 columns):\n",
            " #   Column         Non-Null Count  Dtype  \n",
            "---  ------         --------------  -----  \n",
            " 0   id             21613 non-null  int64  \n",
            " 1   date           21613 non-null  object \n",
            " 2   price          21613 non-null  float64\n",
            " 3   bedrooms       21613 non-null  int64  \n",
            " 4   bathrooms      21613 non-null  float64\n",
            " 5   sqft_living    21613 non-null  int64  \n",
            " 6   sqft_lot       21613 non-null  int64  \n",
            " 7   floors         21613 non-null  float64\n",
            " 8   waterfront     21613 non-null  int64  \n",
            " 9   view           21613 non-null  int64  \n",
            " 10  condition      21613 non-null  int64  \n",
            " 11  grade          21613 non-null  int64  \n",
            " 12  sqft_above     21613 non-null  int64  \n",
            " 13  sqft_basement  21613 non-null  int64  \n",
            " 14  yr_built       21613 non-null  int64  \n",
            " 15  yr_renovated   21613 non-null  int64  \n",
            " 16  zipcode        21613 non-null  int64  \n",
            " 17  lat            21613 non-null  float64\n",
            " 18  long           21613 non-null  float64\n",
            " 19  sqft_living15  21613 non-null  int64  \n",
            " 20  sqft_lot15     21613 non-null  int64  \n",
            "dtypes: float64(5), int64(15), object(1)\n",
            "memory usage: 3.5+ MB\n"
          ],
          "name": "stdout"
        }
      ]
    },
    {
      "cell_type": "code",
      "metadata": {
        "colab": {
          "base_uri": "https://localhost:8080/",
          "height": 296
        },
        "id": "jK4FuqFGS5bG",
        "outputId": "e210f3fb-db34-4247-9811-98b5cf25b40d"
      },
      "source": [
        "y = data['price']\n",
        "x = data['sqft_living']\n",
        "\n",
        "plt.scatter(data['price'],data['sqft_living'])"
      ],
      "execution_count": 13,
      "outputs": [
        {
          "output_type": "execute_result",
          "data": {
            "text/plain": [
              "<matplotlib.collections.PathCollection at 0x7f17f9d2ffd0>"
            ]
          },
          "metadata": {
            "tags": []
          },
          "execution_count": 13
        },
        {
          "output_type": "display_data",
          "data": {
            "image/png": "[encoded data removed]",
            "text/plain": [
              "<Figure size 432x288 with 1 Axes>"
            ]
          },
          "metadata": {
            "tags": [],
            "needs_background": "light"
          }
        }
      ]
    },
    {
      "cell_type": "code",
      "metadata": {
        "colab": {
          "base_uri": "https://localhost:8080/",
          "height": 351
        },
        "id": "f6l-vzDbS8OM",
        "outputId": "204e792d-66d4-4564-a154-fa2d68ba3976"
      },
      "source": [
        "sns.boxplot(x)"
      ],
      "execution_count": 14,
      "outputs": [
        {
          "output_type": "stream",
          "text": [
            "/usr/local/lib/python3.7/dist-packages/seaborn/_decorators.py:43: FutureWarning: Pass the following variable as a keyword arg: x. From version 0.12, the only valid positional argument will be `data`, and passing other arguments without an explicit keyword will result in an error or misinterpretation.\n",
            "  FutureWarning\n"
          ],
          "name": "stderr"
        },
        {
          "output_type": "execute_result",
          "data": {
            "text/plain": [
              "<matplotlib.axes._subplots.AxesSubplot at 0x7f17f98cbe10>"
            ]
          },
          "metadata": {
            "tags": []
          },
          "execution_count": 14
        },
        {
          "output_type": "display_data",
          "data": {
            "image/png": "[encoded data removed]",
            "text/plain": [
              "<Figure size 432x288 with 1 Axes>"
            ]
          },
          "metadata": {
            "tags": [],
            "needs_background": "light"
          }
        }
      ]
    },
    {
      "cell_type": "code",
      "metadata": {
        "colab": {
          "base_uri": "https://localhost:8080/",
          "height": 350
        },
        "id": "acO26Y2lTHEg",
        "outputId": "383722e7-57a3-4b8d-874e-cf27e90ddf60"
      },
      "source": [
        "sns.boxplot(y)"
      ],
      "execution_count": 15,
      "outputs": [
        {
          "output_type": "stream",
          "text": [
            "/usr/local/lib/python3.7/dist-packages/seaborn/_decorators.py:43: FutureWarning: Pass the following variable as a keyword arg: x. From version 0.12, the only valid positional argument will be `data`, and passing other arguments without an explicit keyword will result in an error or misinterpretation.\n",
            "  FutureWarning\n"
          ],
          "name": "stderr"
        },
        {
          "output_type": "execute_result",
          "data": {
            "text/plain": [
              "<matplotlib.axes._subplots.AxesSubplot at 0x7f17f93a3390>"
            ]
          },
          "metadata": {
            "tags": []
          },
          "execution_count": 15
        },
        {
          "output_type": "display_data",
          "data": {
            "image/png": "[encoded data removed]",
            "text/plain": [
              "<Figure size 432x288 with 1 Axes>"
            ]
          },
          "metadata": {
            "tags": [],
            "needs_background": "light"
          }
        }
      ]
    },
    {
      "cell_type": "code",
      "metadata": {
        "id": "MlW7opfZTJJ1"
      },
      "source": [
        "threshold = 3\n",
        "x = list(x)\n",
        "y = list(y)\n",
        "x_new = []\n",
        "y_new = []\n",
        "\n",
        "z = np.abs(stats.zscore(x))\n",
        "outliers = np.where(z > threshold)\n",
        "\n",
        "for i in range(len(x)):\n",
        "  if i not in outliers[0]:\n",
        "    x_new.append(x[i])\n",
        "    y_new.append(y[i])"
      ],
      "execution_count": 16,
      "outputs": []
    },
    {
      "cell_type": "code",
      "metadata": {
        "id": "kS2uuTE2Tb4o"
      },
      "source": [
        "x = x_new\n",
        "y = y_new\n",
        "\n",
        "x_new = []\n",
        "y_new = []\n",
        "\n",
        "z = np.abs(stats.zscore(y))\n",
        "outliers = np.where(z > threshold)\n",
        "for i in range(len(x)):\n",
        "  if i not in outliers[0]:\n",
        "    x_new.append(x[i])\n",
        "    y_new.append(y[i])"
      ],
      "execution_count": 17,
      "outputs": []
    },
    {
      "cell_type": "code",
      "metadata": {
        "colab": {
          "base_uri": "https://localhost:8080/"
        },
        "id": "h-dqt6QFTg0A",
        "outputId": "b38ec1e9-2816-467e-9a41-baebacfd3bd1"
      },
      "source": [
        "print(len(x_new))\n",
        "print(len(y_new))"
      ],
      "execution_count": 18,
      "outputs": [
        {
          "output_type": "stream",
          "text": [
            "20957\n",
            "20957\n"
          ],
          "name": "stdout"
        }
      ]
    },
    {
      "cell_type": "code",
      "metadata": {
        "id": "gPjL0fYUTlba"
      },
      "source": [
        "x = x_new\n",
        "y = y_new"
      ],
      "execution_count": 20,
      "outputs": []
    },
    {
      "cell_type": "code",
      "metadata": {
        "colab": {
          "base_uri": "https://localhost:8080/",
          "height": 293
        },
        "id": "0BPMOX6VTsrb",
        "outputId": "89af4dd0-965d-471f-fa67-e1ff496252be"
      },
      "source": [
        "plt.scatter(x,y)"
      ],
      "execution_count": 21,
      "outputs": [
        {
          "output_type": "execute_result",
          "data": {
            "text/plain": [
              "<matplotlib.collections.PathCollection at 0x7f17f91b0e90>"
            ]
          },
          "metadata": {
            "tags": []
          },
          "execution_count": 21
        },
        {
          "output_type": "display_data",
          "data": {
            "image/png": "[encoded data removed]",
            "text/plain": [
              "<Figure size 432x288 with 1 Axes>"
            ]
          },
          "metadata": {
            "tags": [],
            "needs_background": "light"
          }
        }
      ]
    },
    {
      "cell_type": "code",
      "metadata": {
        "id": "Gj2VQm1NTu8s"
      },
      "source": [
        "\n",
        "x = minmax_scale(x)\n",
        "y = minmax_scale(y)"
      ],
      "execution_count": 22,
      "outputs": []
    },
    {
      "cell_type": "code",
      "metadata": {
        "id": "trl1uLUBTz1X"
      },
      "source": [
        "cleaned_data = [(x[i],y[i]) for i in range(len(x))]"
      ],
      "execution_count": 23,
      "outputs": []
    },
    {
      "cell_type": "code",
      "metadata": {
        "id": "-PlUBNuaT3gc"
      },
      "source": [
        "cleaned_data_train, cleaned_data_test = train_test_split(cleaned_data,test_size=0.1)"
      ],
      "execution_count": 24,
      "outputs": []
    },
    {
      "cell_type": "code",
      "metadata": {
        "colab": {
          "base_uri": "https://localhost:8080/"
        },
        "id": "pPYSv_hiT7Kb",
        "outputId": "4941fc3c-fd22-4609-c408-30561d53fac8"
      },
      "source": [
        "\n",
        "print(len(cleaned_data_train))\n",
        "print(len(cleaned_data_test))"
      ],
      "execution_count": 25,
      "outputs": [
        {
          "output_type": "stream",
          "text": [
            "18861\n",
            "2096\n"
          ],
          "name": "stdout"
        }
      ]
    },
    {
      "cell_type": "code",
      "metadata": {
        "id": "SD1ZOiqYT-uJ"
      },
      "source": [
        "\n",
        "epochs = 20\n",
        "learning_rate = 0.01\n",
        "batch_size = 500\n",
        "number_of_samples = len(cleaned_data_train)\n",
        "number_of_batches = number_of_samples//batch_size\n",
        "m = 1\n",
        "c = 1"
      ],
      "execution_count": 26,
      "outputs": []
    },
    {
      "cell_type": "code",
      "metadata": {
        "colab": {
          "base_uri": "https://localhost:8080/"
        },
        "id": "v48bi1C-UDry",
        "outputId": "3a0a80ec-14e8-40fc-e840-7c4a8fd10a3d"
      },
      "source": [
        "error_list = []\n",
        "for i in range(epochs):\n",
        "  for j in range(number_of_batches+1):\n",
        "    if j == number_of_batches:\n",
        "      d = cleaned_data_train[j*batch_size:]\n",
        "    else:\n",
        "      d = cleaned_data_train[j*batch_size:(j+1)*batch_size]\n",
        "    deltam = -1*learning_rate*gradm(d,m,c)\n",
        "    deltac = -1*learning_rate*gradc(d,m,c)\n",
        "    m = m + deltam\n",
        "    c = c + deltac\n",
        "    err = error(d,m,c)\n",
        "    print(\"epoch : {}, batch : {} >> error : {}\".format(i,j,err))\n",
        "    error_list.append(err)\n",
        "  random.shuffle(cleaned_data_train)"
      ],
      "execution_count": 27,
      "outputs": [
        {
          "output_type": "stream",
          "text": [
            "epoch : 0, batch : 0 >> error : 0.566283529797732\n",
            "epoch : 0, batch : 1 >> error : 0.5569576018222632\n",
            "epoch : 0, batch : 2 >> error : 0.5466835271011176\n",
            "epoch : 0, batch : 3 >> error : 0.5328257981761491\n",
            "epoch : 0, batch : 4 >> error : 0.5194530015111375\n",
            "epoch : 0, batch : 5 >> error : 0.50429600262752\n",
            "epoch : 0, batch : 6 >> error : 0.5006588662263831\n",
            "epoch : 0, batch : 7 >> error : 0.49414437302488945\n",
            "epoch : 0, batch : 8 >> error : 0.47472607240077663\n",
            "epoch : 0, batch : 9 >> error : 0.47090752282545373\n",
            "epoch : 0, batch : 10 >> error : 0.4723711343791268\n",
            "epoch : 0, batch : 11 >> error : 0.4423057071390342\n",
            "epoch : 0, batch : 12 >> error : 0.4317101399471599\n",
            "epoch : 0, batch : 13 >> error : 0.4273309309197989\n",
            "epoch : 0, batch : 14 >> error : 0.4119326781691454\n",
            "epoch : 0, batch : 15 >> error : 0.41127925324040454\n",
            "epoch : 0, batch : 16 >> error : 0.40349277930835026\n",
            "epoch : 0, batch : 17 >> error : 0.3945003518796585\n",
            "epoch : 0, batch : 18 >> error : 0.37832410331975846\n",
            "epoch : 0, batch : 19 >> error : 0.38275876077716947\n",
            "epoch : 0, batch : 20 >> error : 0.3707707334815651\n",
            "epoch : 0, batch : 21 >> error : 0.36098985187524574\n",
            "epoch : 0, batch : 22 >> error : 0.3503402629082038\n",
            "epoch : 0, batch : 23 >> error : 0.3447502464840489\n",
            "epoch : 0, batch : 24 >> error : 0.3292905597103539\n",
            "epoch : 0, batch : 25 >> error : 0.3334386504305528\n",
            "epoch : 0, batch : 26 >> error : 0.32042255058262087\n",
            "epoch : 0, batch : 27 >> error : 0.30833266085656\n",
            "epoch : 0, batch : 28 >> error : 0.30326801808087533\n",
            "epoch : 0, batch : 29 >> error : 0.3002788674352193\n",
            "epoch : 0, batch : 30 >> error : 0.29005091148886386\n",
            "epoch : 0, batch : 31 >> error : 0.2764822107818989\n",
            "epoch : 0, batch : 32 >> error : 0.2770269907879991\n",
            "epoch : 0, batch : 33 >> error : 0.27710549530526907\n",
            "epoch : 0, batch : 34 >> error : 0.2713984391087705\n",
            "epoch : 0, batch : 35 >> error : 0.26012960941015334\n",
            "epoch : 0, batch : 36 >> error : 0.2531683400415861\n",
            "epoch : 0, batch : 37 >> error : 0.2497431457301943\n",
            "epoch : 1, batch : 0 >> error : 0.24686261833657563\n",
            "epoch : 1, batch : 1 >> error : 0.23583730331285374\n",
            "epoch : 1, batch : 2 >> error : 0.23743644729162622\n",
            "epoch : 1, batch : 3 >> error : 0.2326921316421108\n",
            "epoch : 1, batch : 4 >> error : 0.219134525604027\n",
            "epoch : 1, batch : 5 >> error : 0.21878527086809552\n",
            "epoch : 1, batch : 6 >> error : 0.21021551541777947\n",
            "epoch : 1, batch : 7 >> error : 0.2122512632881094\n",
            "epoch : 1, batch : 8 >> error : 0.2002585791442035\n",
            "epoch : 1, batch : 9 >> error : 0.20244649748033877\n",
            "epoch : 1, batch : 10 >> error : 0.19562376014682736\n",
            "epoch : 1, batch : 11 >> error : 0.18290653123358144\n",
            "epoch : 1, batch : 12 >> error : 0.1848938783877233\n",
            "epoch : 1, batch : 13 >> error : 0.18127620552275353\n",
            "epoch : 1, batch : 14 >> error : 0.17364152775989058\n",
            "epoch : 1, batch : 15 >> error : 0.17922909235673953\n",
            "epoch : 1, batch : 16 >> error : 0.17165178117328295\n",
            "epoch : 1, batch : 17 >> error : 0.16986811839240065\n",
            "epoch : 1, batch : 18 >> error : 0.16530246592801515\n",
            "epoch : 1, batch : 19 >> error : 0.1599440090459709\n",
            "epoch : 1, batch : 20 >> error : 0.15722042994290183\n",
            "epoch : 1, batch : 21 >> error : 0.14976593486331366\n",
            "epoch : 1, batch : 22 >> error : 0.15013993399275777\n",
            "epoch : 1, batch : 23 >> error : 0.14618141921754663\n",
            "epoch : 1, batch : 24 >> error : 0.1426656293874665\n",
            "epoch : 1, batch : 25 >> error : 0.14403909699811582\n",
            "epoch : 1, batch : 26 >> error : 0.14238133439964237\n",
            "epoch : 1, batch : 27 >> error : 0.1390107924552665\n",
            "epoch : 1, batch : 28 >> error : 0.14079135302355403\n",
            "epoch : 1, batch : 29 >> error : 0.13125953155962466\n",
            "epoch : 1, batch : 30 >> error : 0.12424562276734075\n",
            "epoch : 1, batch : 31 >> error : 0.12161411644071439\n",
            "epoch : 1, batch : 32 >> error : 0.12533797128442314\n",
            "epoch : 1, batch : 33 >> error : 0.11556264949923348\n",
            "epoch : 1, batch : 34 >> error : 0.11592901833215723\n",
            "epoch : 1, batch : 35 >> error : 0.1124968728162659\n",
            "epoch : 1, batch : 36 >> error : 0.10754429984689577\n",
            "epoch : 1, batch : 37 >> error : 0.10854310789148047\n",
            "epoch : 2, batch : 0 >> error : 0.10850278742098886\n",
            "epoch : 2, batch : 1 >> error : 0.10447656563618941\n",
            "epoch : 2, batch : 2 >> error : 0.10122733263455665\n",
            "epoch : 2, batch : 3 >> error : 0.10131503678643164\n",
            "epoch : 2, batch : 4 >> error : 0.09387750892613465\n",
            "epoch : 2, batch : 5 >> error : 0.09323445409751535\n",
            "epoch : 2, batch : 6 >> error : 0.09302845186194303\n",
            "epoch : 2, batch : 7 >> error : 0.09375414746837439\n",
            "epoch : 2, batch : 8 >> error : 0.08884312296969606\n",
            "epoch : 2, batch : 9 >> error : 0.08719342553289239\n",
            "epoch : 2, batch : 10 >> error : 0.08426360922103407\n",
            "epoch : 2, batch : 11 >> error : 0.08370722887584073\n",
            "epoch : 2, batch : 12 >> error : 0.08755123525031819\n",
            "epoch : 2, batch : 13 >> error : 0.07656338754944556\n",
            "epoch : 2, batch : 14 >> error : 0.08200615836857432\n",
            "epoch : 2, batch : 15 >> error : 0.0773573640620738\n",
            "epoch : 2, batch : 16 >> error : 0.07845456554831146\n",
            "epoch : 2, batch : 17 >> error : 0.07467950867716229\n",
            "epoch : 2, batch : 18 >> error : 0.07879849054776768\n",
            "epoch : 2, batch : 19 >> error : 0.07745911246771728\n",
            "epoch : 2, batch : 20 >> error : 0.06560547582278593\n",
            "epoch : 2, batch : 21 >> error : 0.0693970971699922\n",
            "epoch : 2, batch : 22 >> error : 0.06794564672405712\n",
            "epoch : 2, batch : 23 >> error : 0.06422394710873758\n",
            "epoch : 2, batch : 24 >> error : 0.06678790599771221\n",
            "epoch : 2, batch : 25 >> error : 0.06621935874155747\n",
            "epoch : 2, batch : 26 >> error : 0.06111702781352846\n",
            "epoch : 2, batch : 27 >> error : 0.06136012860005062\n",
            "epoch : 2, batch : 28 >> error : 0.06071141900030388\n",
            "epoch : 2, batch : 29 >> error : 0.059048175190556385\n",
            "epoch : 2, batch : 30 >> error : 0.05784889895437459\n",
            "epoch : 2, batch : 31 >> error : 0.056813784809734626\n",
            "epoch : 2, batch : 32 >> error : 0.055408691358737557\n",
            "epoch : 2, batch : 33 >> error : 0.055096281478463224\n",
            "epoch : 2, batch : 34 >> error : 0.0510863066236303\n",
            "epoch : 2, batch : 35 >> error : 0.05306029009892143\n",
            "epoch : 2, batch : 36 >> error : 0.05024670487542698\n",
            "epoch : 2, batch : 37 >> error : 0.05329978524576201\n",
            "epoch : 3, batch : 0 >> error : 0.052247288424245086\n",
            "epoch : 3, batch : 1 >> error : 0.047800397097398487\n",
            "epoch : 3, batch : 2 >> error : 0.047001346283514676\n",
            "epoch : 3, batch : 3 >> error : 0.046817772718873996\n",
            "epoch : 3, batch : 4 >> error : 0.04478202112253061\n",
            "epoch : 3, batch : 5 >> error : 0.04414459772407062\n",
            "epoch : 3, batch : 6 >> error : 0.04726137789781009\n",
            "epoch : 3, batch : 7 >> error : 0.045123410800572666\n",
            "epoch : 3, batch : 8 >> error : 0.04212357803015425\n",
            "epoch : 3, batch : 9 >> error : 0.04122680684403645\n",
            "epoch : 3, batch : 10 >> error : 0.042413073116645876\n",
            "epoch : 3, batch : 11 >> error : 0.039961524107363935\n",
            "epoch : 3, batch : 12 >> error : 0.04036336943626372\n",
            "epoch : 3, batch : 13 >> error : 0.03707698118504876\n",
            "epoch : 3, batch : 14 >> error : 0.038684690956464346\n",
            "epoch : 3, batch : 15 >> error : 0.03870117275212906\n",
            "epoch : 3, batch : 16 >> error : 0.03738368179467176\n",
            "epoch : 3, batch : 17 >> error : 0.03379914720978192\n",
            "epoch : 3, batch : 18 >> error : 0.03329775975437983\n",
            "epoch : 3, batch : 19 >> error : 0.03613809705111136\n",
            "epoch : 3, batch : 20 >> error : 0.0324738781472902\n",
            "epoch : 3, batch : 21 >> error : 0.03578577616624741\n",
            "epoch : 3, batch : 22 >> error : 0.03288157515862521\n",
            "epoch : 3, batch : 23 >> error : 0.032009852223554076\n",
            "epoch : 3, batch : 24 >> error : 0.03256146929543988\n",
            "epoch : 3, batch : 25 >> error : 0.03410302244803404\n",
            "epoch : 3, batch : 26 >> error : 0.033812658845451385\n",
            "epoch : 3, batch : 27 >> error : 0.03059023279846782\n",
            "epoch : 3, batch : 28 >> error : 0.03024825407266818\n",
            "epoch : 3, batch : 29 >> error : 0.0268037818091334\n",
            "epoch : 3, batch : 30 >> error : 0.029397717671991015\n",
            "epoch : 3, batch : 31 >> error : 0.03076880386109365\n",
            "epoch : 3, batch : 32 >> error : 0.02694058147312353\n",
            "epoch : 3, batch : 33 >> error : 0.0263902610223444\n",
            "epoch : 3, batch : 34 >> error : 0.027086875604664887\n",
            "epoch : 3, batch : 35 >> error : 0.025622161051947385\n",
            "epoch : 3, batch : 36 >> error : 0.027065036257215458\n",
            "epoch : 3, batch : 37 >> error : 0.027875300914348252\n",
            "epoch : 4, batch : 0 >> error : 0.024242523217357925\n",
            "epoch : 4, batch : 1 >> error : 0.025292350924287388\n",
            "epoch : 4, batch : 2 >> error : 0.02484841643054051\n",
            "epoch : 4, batch : 3 >> error : 0.023986896399533972\n",
            "epoch : 4, batch : 4 >> error : 0.025389823242959485\n",
            "epoch : 4, batch : 5 >> error : 0.02529024516548148\n",
            "epoch : 4, batch : 6 >> error : 0.02338019101872434\n",
            "epoch : 4, batch : 7 >> error : 0.02320571630072422\n",
            "epoch : 4, batch : 8 >> error : 0.022561341145618165\n",
            "epoch : 4, batch : 9 >> error : 0.022097268965167845\n",
            "epoch : 4, batch : 10 >> error : 0.023149122388844784\n",
            "epoch : 4, batch : 11 >> error : 0.02431700835017282\n",
            "epoch : 4, batch : 12 >> error : 0.02341051630831187\n",
            "epoch : 4, batch : 13 >> error : 0.02025119783226327\n",
            "epoch : 4, batch : 14 >> error : 0.021304658010657843\n",
            "epoch : 4, batch : 15 >> error : 0.0204126988654153\n",
            "epoch : 4, batch : 16 >> error : 0.019471068910722988\n",
            "epoch : 4, batch : 17 >> error : 0.020166775523212097\n",
            "epoch : 4, batch : 18 >> error : 0.01959003732717991\n",
            "epoch : 4, batch : 19 >> error : 0.018483497602794486\n",
            "epoch : 4, batch : 20 >> error : 0.01948265127261946\n",
            "epoch : 4, batch : 21 >> error : 0.019655756069185338\n",
            "epoch : 4, batch : 22 >> error : 0.01776593086998242\n",
            "epoch : 4, batch : 23 >> error : 0.01743278535685511\n",
            "epoch : 4, batch : 24 >> error : 0.019375996048259826\n",
            "epoch : 4, batch : 25 >> error : 0.018588468195548238\n",
            "epoch : 4, batch : 26 >> error : 0.018660438316644625\n",
            "epoch : 4, batch : 27 >> error : 0.019186176136429475\n",
            "epoch : 4, batch : 28 >> error : 0.017971834789748377\n",
            "epoch : 4, batch : 29 >> error : 0.016617314319656785\n",
            "epoch : 4, batch : 30 >> error : 0.017662451399814365\n",
            "epoch : 4, batch : 31 >> error : 0.016715576012423416\n",
            "epoch : 4, batch : 32 >> error : 0.01539103667389436\n",
            "epoch : 4, batch : 33 >> error : 0.016137738622566483\n",
            "epoch : 4, batch : 34 >> error : 0.01641866841617971\n",
            "epoch : 4, batch : 35 >> error : 0.0183306062919105\n",
            "epoch : 4, batch : 36 >> error : 0.017594450468279375\n",
            "epoch : 4, batch : 37 >> error : 0.016159390410116364\n",
            "epoch : 5, batch : 0 >> error : 0.01685742884429289\n",
            "epoch : 5, batch : 1 >> error : 0.015535417002604713\n",
            "epoch : 5, batch : 2 >> error : 0.016452574275234718\n",
            "epoch : 5, batch : 3 >> error : 0.015653104649508844\n",
            "epoch : 5, batch : 4 >> error : 0.014836004855629192\n",
            "epoch : 5, batch : 5 >> error : 0.014248331906597224\n",
            "epoch : 5, batch : 6 >> error : 0.013399914017027227\n",
            "epoch : 5, batch : 7 >> error : 0.015450804519729175\n",
            "epoch : 5, batch : 8 >> error : 0.014445823861643886\n",
            "epoch : 5, batch : 9 >> error : 0.015041797371794\n",
            "epoch : 5, batch : 10 >> error : 0.013508642806155543\n",
            "epoch : 5, batch : 11 >> error : 0.015910828971999514\n",
            "epoch : 5, batch : 12 >> error : 0.014313770711648644\n",
            "epoch : 5, batch : 13 >> error : 0.014485561023702648\n",
            "epoch : 5, batch : 14 >> error : 0.013761744847368383\n",
            "epoch : 5, batch : 15 >> error : 0.015139884368660674\n",
            "epoch : 5, batch : 16 >> error : 0.013096581593644413\n",
            "epoch : 5, batch : 17 >> error : 0.014154298030806164\n",
            "epoch : 5, batch : 18 >> error : 0.0139406080617301\n",
            "epoch : 5, batch : 19 >> error : 0.013308294227797017\n",
            "epoch : 5, batch : 20 >> error : 0.01398333764100687\n",
            "epoch : 5, batch : 21 >> error : 0.01238479873511705\n",
            "epoch : 5, batch : 22 >> error : 0.012402182862867952\n",
            "epoch : 5, batch : 23 >> error : 0.012887893113829147\n",
            "epoch : 5, batch : 24 >> error : 0.01250199898323352\n",
            "epoch : 5, batch : 25 >> error : 0.01286572286001369\n",
            "epoch : 5, batch : 26 >> error : 0.012067590424932209\n",
            "epoch : 5, batch : 27 >> error : 0.012765372770803609\n",
            "epoch : 5, batch : 28 >> error : 0.011953246930589105\n",
            "epoch : 5, batch : 29 >> error : 0.012310307990385745\n",
            "epoch : 5, batch : 30 >> error : 0.012642377971695972\n",
            "epoch : 5, batch : 31 >> error : 0.013950466622370579\n",
            "epoch : 5, batch : 32 >> error : 0.01215333943772364\n",
            "epoch : 5, batch : 33 >> error : 0.012256983049347619\n",
            "epoch : 5, batch : 34 >> error : 0.012136637487394885\n",
            "epoch : 5, batch : 35 >> error : 0.011572617088154566\n",
            "epoch : 5, batch : 36 >> error : 0.010916167259907085\n",
            "epoch : 5, batch : 37 >> error : 0.011594280385356025\n",
            "epoch : 6, batch : 0 >> error : 0.011651372997246537\n",
            "epoch : 6, batch : 1 >> error : 0.011257578137376186\n",
            "epoch : 6, batch : 2 >> error : 0.01182565855590558\n",
            "epoch : 6, batch : 3 >> error : 0.01125547228877275\n",
            "epoch : 6, batch : 4 >> error : 0.01310877712845628\n",
            "epoch : 6, batch : 5 >> error : 0.012151369106414775\n",
            "epoch : 6, batch : 6 >> error : 0.011655251538063214\n",
            "epoch : 6, batch : 7 >> error : 0.011257218290987052\n",
            "epoch : 6, batch : 8 >> error : 0.011223179863124828\n",
            "epoch : 6, batch : 9 >> error : 0.01084679989723907\n",
            "epoch : 6, batch : 10 >> error : 0.011510064129762554\n",
            "epoch : 6, batch : 11 >> error : 0.011018391075926432\n",
            "epoch : 6, batch : 12 >> error : 0.01063810977324738\n",
            "epoch : 6, batch : 13 >> error : 0.011350758123258782\n",
            "epoch : 6, batch : 14 >> error : 0.011714692388695233\n",
            "epoch : 6, batch : 15 >> error : 0.010256758788580966\n",
            "epoch : 6, batch : 16 >> error : 0.010217440886914217\n",
            "epoch : 6, batch : 17 >> error : 0.011435676367549177\n",
            "epoch : 6, batch : 18 >> error : 0.009356664948538209\n",
            "epoch : 6, batch : 19 >> error : 0.010183000966363685\n",
            "epoch : 6, batch : 20 >> error : 0.010528707492683344\n",
            "epoch : 6, batch : 21 >> error : 0.010846758346877466\n",
            "epoch : 6, batch : 22 >> error : 0.011281369307634423\n",
            "epoch : 6, batch : 23 >> error : 0.010213675093669439\n",
            "epoch : 6, batch : 24 >> error : 0.011138729664743498\n",
            "epoch : 6, batch : 25 >> error : 0.01085029440623946\n",
            "epoch : 6, batch : 26 >> error : 0.010576284007744245\n",
            "epoch : 6, batch : 27 >> error : 0.009686959824081312\n",
            "epoch : 6, batch : 28 >> error : 0.010160378582228352\n",
            "epoch : 6, batch : 29 >> error : 0.010116866936883333\n",
            "epoch : 6, batch : 30 >> error : 0.01069856434506819\n",
            "epoch : 6, batch : 31 >> error : 0.009774423815340532\n",
            "epoch : 6, batch : 32 >> error : 0.009323643127463411\n",
            "epoch : 6, batch : 33 >> error : 0.011106482041720215\n",
            "epoch : 6, batch : 34 >> error : 0.011385363620036199\n",
            "epoch : 6, batch : 35 >> error : 0.01052142997438323\n",
            "epoch : 6, batch : 36 >> error : 0.009327087643647196\n",
            "epoch : 6, batch : 37 >> error : 0.010272897427868011\n",
            "epoch : 7, batch : 0 >> error : 0.009647796646358793\n",
            "epoch : 7, batch : 1 >> error : 0.010178304930392651\n",
            "epoch : 7, batch : 2 >> error : 0.01115286755841887\n",
            "epoch : 7, batch : 3 >> error : 0.0101838471145907\n",
            "epoch : 7, batch : 4 >> error : 0.010966098873542742\n",
            "epoch : 7, batch : 5 >> error : 0.009443286062214224\n",
            "epoch : 7, batch : 6 >> error : 0.010022173772133993\n",
            "epoch : 7, batch : 7 >> error : 0.010153167061618031\n",
            "epoch : 7, batch : 8 >> error : 0.009111273378363568\n",
            "epoch : 7, batch : 9 >> error : 0.009918649253098183\n",
            "epoch : 7, batch : 10 >> error : 0.009699284940156176\n",
            "epoch : 7, batch : 11 >> error : 0.00933291253679738\n",
            "epoch : 7, batch : 12 >> error : 0.010726840884489292\n",
            "epoch : 7, batch : 13 >> error : 0.009295543169760567\n",
            "epoch : 7, batch : 14 >> error : 0.01031526842602343\n",
            "epoch : 7, batch : 15 >> error : 0.011052730548712258\n",
            "epoch : 7, batch : 16 >> error : 0.010156641344487535\n",
            "epoch : 7, batch : 17 >> error : 0.009225162783436035\n",
            "epoch : 7, batch : 18 >> error : 0.009543653682648551\n",
            "epoch : 7, batch : 19 >> error : 0.009384149687135837\n",
            "epoch : 7, batch : 20 >> error : 0.009232159080314092\n",
            "epoch : 7, batch : 21 >> error : 0.011301379815914326\n",
            "epoch : 7, batch : 22 >> error : 0.009592624743787083\n",
            "epoch : 7, batch : 23 >> error : 0.009904776223601218\n",
            "epoch : 7, batch : 24 >> error : 0.00812887442541142\n",
            "epoch : 7, batch : 25 >> error : 0.008296234880927372\n",
            "epoch : 7, batch : 26 >> error : 0.009016697024851373\n",
            "epoch : 7, batch : 27 >> error : 0.009381370289268396\n",
            "epoch : 7, batch : 28 >> error : 0.009528557984586202\n",
            "epoch : 7, batch : 29 >> error : 0.008892286085764705\n",
            "epoch : 7, batch : 30 >> error : 0.009830526826437801\n",
            "epoch : 7, batch : 31 >> error : 0.009203028684251666\n",
            "epoch : 7, batch : 32 >> error : 0.009500178572279134\n",
            "epoch : 7, batch : 33 >> error : 0.00999891863342561\n",
            "epoch : 7, batch : 34 >> error : 0.008807164969494413\n",
            "epoch : 7, batch : 35 >> error : 0.00945052481963865\n",
            "epoch : 7, batch : 36 >> error : 0.009123343983990234\n",
            "epoch : 7, batch : 37 >> error : 0.009113113552942339\n",
            "epoch : 8, batch : 0 >> error : 0.007794582713024848\n",
            "epoch : 8, batch : 1 >> error : 0.009664806316813653\n",
            "epoch : 8, batch : 2 >> error : 0.010246887372094478\n",
            "epoch : 8, batch : 3 >> error : 0.009629510715532428\n",
            "epoch : 8, batch : 4 >> error : 0.009836230688279893\n",
            "epoch : 8, batch : 5 >> error : 0.008982310785623782\n",
            "epoch : 8, batch : 6 >> error : 0.008464729377064661\n",
            "epoch : 8, batch : 7 >> error : 0.009143645547743714\n",
            "epoch : 8, batch : 8 >> error : 0.009231900785650293\n",
            "epoch : 8, batch : 9 >> error : 0.010332381176822161\n",
            "epoch : 8, batch : 10 >> error : 0.010386580518212856\n",
            "epoch : 8, batch : 11 >> error : 0.008486898393412165\n",
            "epoch : 8, batch : 12 >> error : 0.009022058919737671\n",
            "epoch : 8, batch : 13 >> error : 0.009399184475516858\n",
            "epoch : 8, batch : 14 >> error : 0.009220086597387548\n",
            "epoch : 8, batch : 15 >> error : 0.008900478305936214\n",
            "epoch : 8, batch : 16 >> error : 0.009100630107590015\n",
            "epoch : 8, batch : 17 >> error : 0.00910166495850058\n",
            "epoch : 8, batch : 18 >> error : 0.009562727105194799\n",
            "epoch : 8, batch : 19 >> error : 0.008712907845807121\n",
            "epoch : 8, batch : 20 >> error : 0.010375342960165387\n",
            "epoch : 8, batch : 21 >> error : 0.010024868493791597\n",
            "epoch : 8, batch : 22 >> error : 0.00886299943025297\n",
            "epoch : 8, batch : 23 >> error : 0.008832378730427559\n",
            "epoch : 8, batch : 24 >> error : 0.008785495430223146\n",
            "epoch : 8, batch : 25 >> error : 0.009090252125672955\n",
            "epoch : 8, batch : 26 >> error : 0.008044597007707004\n",
            "epoch : 8, batch : 27 >> error : 0.00900187632260381\n",
            "epoch : 8, batch : 28 >> error : 0.009334890340029113\n",
            "epoch : 8, batch : 29 >> error : 0.008234324511244267\n",
            "epoch : 8, batch : 30 >> error : 0.010171098126890937\n",
            "epoch : 8, batch : 31 >> error : 0.009230354405634345\n",
            "epoch : 8, batch : 32 >> error : 0.008028285286525974\n",
            "epoch : 8, batch : 33 >> error : 0.008854589590303817\n",
            "epoch : 8, batch : 34 >> error : 0.00907198416478841\n",
            "epoch : 8, batch : 35 >> error : 0.009823452437055066\n",
            "epoch : 8, batch : 36 >> error : 0.009334568276006375\n",
            "epoch : 8, batch : 37 >> error : 0.009403235726180284\n",
            "epoch : 9, batch : 0 >> error : 0.00788736921289527\n",
            "epoch : 9, batch : 1 >> error : 0.009371415060243122\n",
            "epoch : 9, batch : 2 >> error : 0.00868757001310466\n",
            "epoch : 9, batch : 3 >> error : 0.009062913321560624\n",
            "epoch : 9, batch : 4 >> error : 0.009092163714211668\n",
            "epoch : 9, batch : 5 >> error : 0.008046361147875368\n",
            "epoch : 9, batch : 6 >> error : 0.008565476652237208\n",
            "epoch : 9, batch : 7 >> error : 0.009408200378455082\n",
            "epoch : 9, batch : 8 >> error : 0.009311482565533035\n",
            "epoch : 9, batch : 9 >> error : 0.009200555070553656\n",
            "epoch : 9, batch : 10 >> error : 0.009711897386995108\n",
            "epoch : 9, batch : 11 >> error : 0.00925215132008629\n",
            "epoch : 9, batch : 12 >> error : 0.010024999485006984\n",
            "epoch : 9, batch : 13 >> error : 0.008789883960246296\n",
            "epoch : 9, batch : 14 >> error : 0.008838687644356483\n",
            "epoch : 9, batch : 15 >> error : 0.009146409605408806\n",
            "epoch : 9, batch : 16 >> error : 0.00811655743926053\n",
            "epoch : 9, batch : 17 >> error : 0.008203028048325104\n",
            "epoch : 9, batch : 18 >> error : 0.00961849060390165\n",
            "epoch : 9, batch : 19 >> error : 0.010541014432910624\n",
            "epoch : 9, batch : 20 >> error : 0.008822211154598485\n",
            "epoch : 9, batch : 21 >> error : 0.009667355659945554\n",
            "epoch : 9, batch : 22 >> error : 0.010048310271402771\n",
            "epoch : 9, batch : 23 >> error : 0.007276390195915886\n",
            "epoch : 9, batch : 24 >> error : 0.008436645903937943\n",
            "epoch : 9, batch : 25 >> error : 0.009634794042185322\n",
            "epoch : 9, batch : 26 >> error : 0.009063486685478876\n",
            "epoch : 9, batch : 27 >> error : 0.0075531010095313475\n",
            "epoch : 9, batch : 28 >> error : 0.009739350167726684\n",
            "epoch : 9, batch : 29 >> error : 0.0093580732715203\n",
            "epoch : 9, batch : 30 >> error : 0.007906133375437864\n",
            "epoch : 9, batch : 31 >> error : 0.007368622090631308\n",
            "epoch : 9, batch : 32 >> error : 0.010032406552960825\n",
            "epoch : 9, batch : 33 >> error : 0.008809463777740292\n",
            "epoch : 9, batch : 34 >> error : 0.011439703432262246\n",
            "epoch : 9, batch : 35 >> error : 0.00912889800948554\n",
            "epoch : 9, batch : 36 >> error : 0.008698921267999248\n",
            "epoch : 9, batch : 37 >> error : 0.007931288634396166\n",
            "epoch : 10, batch : 0 >> error : 0.00805723159403246\n",
            "epoch : 10, batch : 1 >> error : 0.008639952154009404\n",
            "epoch : 10, batch : 2 >> error : 0.009131433618525605\n",
            "epoch : 10, batch : 3 >> error : 0.010344444415956767\n",
            "epoch : 10, batch : 4 >> error : 0.007999459038524554\n",
            "epoch : 10, batch : 5 >> error : 0.00869130984529099\n",
            "epoch : 10, batch : 6 >> error : 0.008615528035228392\n",
            "epoch : 10, batch : 7 >> error : 0.008917076557784186\n",
            "epoch : 10, batch : 8 >> error : 0.00874336583818496\n",
            "epoch : 10, batch : 9 >> error : 0.008700080528192933\n",
            "epoch : 10, batch : 10 >> error : 0.009879205245659385\n",
            "epoch : 10, batch : 11 >> error : 0.009507561483748974\n",
            "epoch : 10, batch : 12 >> error : 0.00951672840713356\n",
            "epoch : 10, batch : 13 >> error : 0.008531643695868498\n",
            "epoch : 10, batch : 14 >> error : 0.008859606933243945\n",
            "epoch : 10, batch : 15 >> error : 0.010062354109257673\n",
            "epoch : 10, batch : 16 >> error : 0.009018546623566272\n",
            "epoch : 10, batch : 17 >> error : 0.008859347814349921\n",
            "epoch : 10, batch : 18 >> error : 0.00901943124910343\n",
            "epoch : 10, batch : 19 >> error : 0.008500578448614895\n",
            "epoch : 10, batch : 20 >> error : 0.008341822226064619\n",
            "epoch : 10, batch : 21 >> error : 0.008522277993783875\n",
            "epoch : 10, batch : 22 >> error : 0.008939577101137224\n",
            "epoch : 10, batch : 23 >> error : 0.010205675544307466\n",
            "epoch : 10, batch : 24 >> error : 0.00837205286106955\n",
            "epoch : 10, batch : 25 >> error : 0.009306389388606515\n",
            "epoch : 10, batch : 26 >> error : 0.009221026452848833\n",
            "epoch : 10, batch : 27 >> error : 0.007644682912597631\n",
            "epoch : 10, batch : 28 >> error : 0.008727020100756976\n",
            "epoch : 10, batch : 29 >> error : 0.00874187016468819\n",
            "epoch : 10, batch : 30 >> error : 0.009108909384447757\n",
            "epoch : 10, batch : 31 >> error : 0.009058397066540358\n",
            "epoch : 10, batch : 32 >> error : 0.008901724182986896\n",
            "epoch : 10, batch : 33 >> error : 0.00852771270346989\n",
            "epoch : 10, batch : 34 >> error : 0.009391618061344847\n",
            "epoch : 10, batch : 35 >> error : 0.008419308465449568\n",
            "epoch : 10, batch : 36 >> error : 0.009006986227397656\n",
            "epoch : 10, batch : 37 >> error : 0.008890064345089465\n",
            "epoch : 11, batch : 0 >> error : 0.010657249760914655\n",
            "epoch : 11, batch : 1 >> error : 0.008306041548384258\n",
            "epoch : 11, batch : 2 >> error : 0.009333916895636268\n",
            "epoch : 11, batch : 3 >> error : 0.008321748465623608\n",
            "epoch : 11, batch : 4 >> error : 0.008775046642330694\n",
            "epoch : 11, batch : 5 >> error : 0.00964387306636528\n",
            "epoch : 11, batch : 6 >> error : 0.00856057459742694\n",
            "epoch : 11, batch : 7 >> error : 0.009613743759163976\n",
            "epoch : 11, batch : 8 >> error : 0.00796080229859012\n",
            "epoch : 11, batch : 9 >> error : 0.008089017025050564\n",
            "epoch : 11, batch : 10 >> error : 0.009054469980866588\n",
            "epoch : 11, batch : 11 >> error : 0.008943230634331167\n",
            "epoch : 11, batch : 12 >> error : 0.008509799374413273\n",
            "epoch : 11, batch : 13 >> error : 0.009950481397936896\n",
            "epoch : 11, batch : 14 >> error : 0.008601244229060613\n",
            "epoch : 11, batch : 15 >> error : 0.00971891181071482\n",
            "epoch : 11, batch : 16 >> error : 0.008581174108746497\n",
            "epoch : 11, batch : 17 >> error : 0.009626461366788392\n",
            "epoch : 11, batch : 18 >> error : 0.0080663351945667\n",
            "epoch : 11, batch : 19 >> error : 0.008354599454936808\n",
            "epoch : 11, batch : 20 >> error : 0.009671878552760632\n",
            "epoch : 11, batch : 21 >> error : 0.0100267883174759\n",
            "epoch : 11, batch : 22 >> error : 0.008061153161213235\n",
            "epoch : 11, batch : 23 >> error : 0.009059916853217807\n",
            "epoch : 11, batch : 24 >> error : 0.009975098592075458\n",
            "epoch : 11, batch : 25 >> error : 0.00882027131045868\n",
            "epoch : 11, batch : 26 >> error : 0.009482940316564175\n",
            "epoch : 11, batch : 27 >> error : 0.00894857735670641\n",
            "epoch : 11, batch : 28 >> error : 0.009249899695093143\n",
            "epoch : 11, batch : 29 >> error : 0.007320782528722424\n",
            "epoch : 11, batch : 30 >> error : 0.008577861903626477\n",
            "epoch : 11, batch : 31 >> error : 0.008216691898738587\n",
            "epoch : 11, batch : 32 >> error : 0.00924840640233971\n",
            "epoch : 11, batch : 33 >> error : 0.009491982117040696\n",
            "epoch : 11, batch : 34 >> error : 0.008233841882407757\n",
            "epoch : 11, batch : 35 >> error : 0.008116145986550279\n",
            "epoch : 11, batch : 36 >> error : 0.00836057165243506\n",
            "epoch : 11, batch : 37 >> error : 0.0077628175806555505\n",
            "epoch : 12, batch : 0 >> error : 0.008104783971242592\n",
            "epoch : 12, batch : 1 >> error : 0.008464764947111325\n",
            "epoch : 12, batch : 2 >> error : 0.007570911199401669\n",
            "epoch : 12, batch : 3 >> error : 0.009790467398735793\n",
            "epoch : 12, batch : 4 >> error : 0.009244335061617558\n",
            "epoch : 12, batch : 5 >> error : 0.008744021513316748\n",
            "epoch : 12, batch : 6 >> error : 0.009098339066275659\n",
            "epoch : 12, batch : 7 >> error : 0.008168793366711667\n",
            "epoch : 12, batch : 8 >> error : 0.010019162193316512\n",
            "epoch : 12, batch : 9 >> error : 0.008087898835787186\n",
            "epoch : 12, batch : 10 >> error : 0.008453856211081355\n",
            "epoch : 12, batch : 11 >> error : 0.008804459270166492\n",
            "epoch : 12, batch : 12 >> error : 0.0077594538023309885\n",
            "epoch : 12, batch : 13 >> error : 0.008867693196570691\n",
            "epoch : 12, batch : 14 >> error : 0.009386888383771252\n",
            "epoch : 12, batch : 15 >> error : 0.008815416095502366\n",
            "epoch : 12, batch : 16 >> error : 0.009190549868890056\n",
            "epoch : 12, batch : 17 >> error : 0.008568654275557397\n",
            "epoch : 12, batch : 18 >> error : 0.008964656530904445\n",
            "epoch : 12, batch : 19 >> error : 0.007959502273843226\n",
            "epoch : 12, batch : 20 >> error : 0.008951813159572672\n",
            "epoch : 12, batch : 21 >> error : 0.008758534947848545\n",
            "epoch : 12, batch : 22 >> error : 0.008859144935006214\n",
            "epoch : 12, batch : 23 >> error : 0.008163001717393965\n",
            "epoch : 12, batch : 24 >> error : 0.008778974020217356\n",
            "epoch : 12, batch : 25 >> error : 0.010096570963838212\n",
            "epoch : 12, batch : 26 >> error : 0.010927663297259724\n",
            "epoch : 12, batch : 27 >> error : 0.008961443187868089\n",
            "epoch : 12, batch : 28 >> error : 0.010151216569222465\n",
            "epoch : 12, batch : 29 >> error : 0.00954093788661714\n",
            "epoch : 12, batch : 30 >> error : 0.008891160382665273\n",
            "epoch : 12, batch : 31 >> error : 0.009064030987815467\n",
            "epoch : 12, batch : 32 >> error : 0.008584795792134609\n",
            "epoch : 12, batch : 33 >> error : 0.00887404171201831\n",
            "epoch : 12, batch : 34 >> error : 0.009060180125152792\n",
            "epoch : 12, batch : 35 >> error : 0.008184911969908988\n",
            "epoch : 12, batch : 36 >> error : 0.008130126854456562\n",
            "epoch : 12, batch : 37 >> error : 0.009083208837618196\n",
            "epoch : 13, batch : 0 >> error : 0.010706085286326748\n",
            "epoch : 13, batch : 1 >> error : 0.007985735285869888\n",
            "epoch : 13, batch : 2 >> error : 0.008676116892498852\n",
            "epoch : 13, batch : 3 >> error : 0.008760944455493903\n",
            "epoch : 13, batch : 4 >> error : 0.008899913631283125\n",
            "epoch : 13, batch : 5 >> error : 0.009292232089618152\n",
            "epoch : 13, batch : 6 >> error : 0.008476085765231352\n",
            "epoch : 13, batch : 7 >> error : 0.008617348132284305\n",
            "epoch : 13, batch : 8 >> error : 0.01028629863461173\n",
            "epoch : 13, batch : 9 >> error : 0.008243080102372874\n",
            "epoch : 13, batch : 10 >> error : 0.009289900029208445\n",
            "epoch : 13, batch : 11 >> error : 0.009411023367851011\n",
            "epoch : 13, batch : 12 >> error : 0.009150126690120608\n",
            "epoch : 13, batch : 13 >> error : 0.009504520759621311\n",
            "epoch : 13, batch : 14 >> error : 0.008780066412196919\n",
            "epoch : 13, batch : 15 >> error : 0.00860881203725396\n",
            "epoch : 13, batch : 16 >> error : 0.008938104023196022\n",
            "epoch : 13, batch : 17 >> error : 0.009187659675585455\n",
            "epoch : 13, batch : 18 >> error : 0.008481151290754142\n",
            "epoch : 13, batch : 19 >> error : 0.009717873653569032\n",
            "epoch : 13, batch : 20 >> error : 0.007932656989608164\n",
            "epoch : 13, batch : 21 >> error : 0.009858071714356443\n",
            "epoch : 13, batch : 22 >> error : 0.007702358760012629\n",
            "epoch : 13, batch : 23 >> error : 0.007715361554430036\n",
            "epoch : 13, batch : 24 >> error : 0.00937919398424159\n",
            "epoch : 13, batch : 25 >> error : 0.008726934546071024\n",
            "epoch : 13, batch : 26 >> error : 0.00797972117659814\n",
            "epoch : 13, batch : 27 >> error : 0.009747291273300684\n",
            "epoch : 13, batch : 28 >> error : 0.007913304409286653\n",
            "epoch : 13, batch : 29 >> error : 0.009559894163888357\n",
            "epoch : 13, batch : 30 >> error : 0.008738024816838545\n",
            "epoch : 13, batch : 31 >> error : 0.009910378092473393\n",
            "epoch : 13, batch : 32 >> error : 0.00906332420960954\n",
            "epoch : 13, batch : 33 >> error : 0.00833873144516826\n",
            "epoch : 13, batch : 34 >> error : 0.00829943849744024\n",
            "epoch : 13, batch : 35 >> error : 0.008602725947930405\n",
            "epoch : 13, batch : 36 >> error : 0.008366800314003215\n",
            "epoch : 13, batch : 37 >> error : 0.007655733952613468\n",
            "epoch : 14, batch : 0 >> error : 0.008856826192344463\n",
            "epoch : 14, batch : 1 >> error : 0.008502347262145148\n",
            "epoch : 14, batch : 2 >> error : 0.009314034486835206\n",
            "epoch : 14, batch : 3 >> error : 0.009349785374834938\n",
            "epoch : 14, batch : 4 >> error : 0.008554429747423547\n",
            "epoch : 14, batch : 5 >> error : 0.00910458344891032\n",
            "epoch : 14, batch : 6 >> error : 0.008962886005604596\n",
            "epoch : 14, batch : 7 >> error : 0.008093794476329018\n",
            "epoch : 14, batch : 8 >> error : 0.008964011589846367\n",
            "epoch : 14, batch : 9 >> error : 0.0071655452818171995\n",
            "epoch : 14, batch : 10 >> error : 0.009569035134645763\n",
            "epoch : 14, batch : 11 >> error : 0.008983606469508052\n",
            "epoch : 14, batch : 12 >> error : 0.007861769065527017\n",
            "epoch : 14, batch : 13 >> error : 0.00958578524260421\n",
            "epoch : 14, batch : 14 >> error : 0.008261680611088342\n",
            "epoch : 14, batch : 15 >> error : 0.01108825072506777\n",
            "epoch : 14, batch : 16 >> error : 0.006872053960996385\n",
            "epoch : 14, batch : 17 >> error : 0.009294998679007519\n",
            "epoch : 14, batch : 18 >> error : 0.009016363811617974\n",
            "epoch : 14, batch : 19 >> error : 0.009274871616538217\n",
            "epoch : 14, batch : 20 >> error : 0.008604648738456877\n",
            "epoch : 14, batch : 21 >> error : 0.008872639938557358\n",
            "epoch : 14, batch : 22 >> error : 0.00908723820217384\n",
            "epoch : 14, batch : 23 >> error : 0.009468986818815393\n",
            "epoch : 14, batch : 24 >> error : 0.008351333818820559\n",
            "epoch : 14, batch : 25 >> error : 0.008621871461044405\n",
            "epoch : 14, batch : 26 >> error : 0.008614026337529378\n",
            "epoch : 14, batch : 27 >> error : 0.010023514072678036\n",
            "epoch : 14, batch : 28 >> error : 0.008378847323488984\n",
            "epoch : 14, batch : 29 >> error : 0.009407264306822323\n",
            "epoch : 14, batch : 30 >> error : 0.00862197441778942\n",
            "epoch : 14, batch : 31 >> error : 0.00927027987334102\n",
            "epoch : 14, batch : 32 >> error : 0.010515791011343421\n",
            "epoch : 14, batch : 33 >> error : 0.008608752898256484\n",
            "epoch : 14, batch : 34 >> error : 0.00749321885141162\n",
            "epoch : 14, batch : 35 >> error : 0.008405167055401501\n",
            "epoch : 14, batch : 36 >> error : 0.009218339747125381\n",
            "epoch : 14, batch : 37 >> error : 0.008366976085631483\n",
            "epoch : 15, batch : 0 >> error : 0.009579576412494588\n",
            "epoch : 15, batch : 1 >> error : 0.009517966608779786\n",
            "epoch : 15, batch : 2 >> error : 0.00934858957224638\n",
            "epoch : 15, batch : 3 >> error : 0.009074047068435887\n",
            "epoch : 15, batch : 4 >> error : 0.009063524055239795\n",
            "epoch : 15, batch : 5 >> error : 0.008307497137031066\n",
            "epoch : 15, batch : 6 >> error : 0.007961971379434772\n",
            "epoch : 15, batch : 7 >> error : 0.008878328747255882\n",
            "epoch : 15, batch : 8 >> error : 0.008748302683139928\n",
            "epoch : 15, batch : 9 >> error : 0.008643358386136349\n",
            "epoch : 15, batch : 10 >> error : 0.009534284862744614\n",
            "epoch : 15, batch : 11 >> error : 0.008869910352161718\n",
            "epoch : 15, batch : 12 >> error : 0.00843721792200492\n",
            "epoch : 15, batch : 13 >> error : 0.008792383794673534\n",
            "epoch : 15, batch : 14 >> error : 0.008152787619071043\n",
            "epoch : 15, batch : 15 >> error : 0.00875916429648086\n",
            "epoch : 15, batch : 16 >> error : 0.00803031613953252\n",
            "epoch : 15, batch : 17 >> error : 0.00945452064273379\n",
            "epoch : 15, batch : 18 >> error : 0.008815956135277558\n",
            "epoch : 15, batch : 19 >> error : 0.0076293534444479\n",
            "epoch : 15, batch : 20 >> error : 0.00936784668844123\n",
            "epoch : 15, batch : 21 >> error : 0.009057003987364268\n",
            "epoch : 15, batch : 22 >> error : 0.008850889918191912\n",
            "epoch : 15, batch : 23 >> error : 0.010814502062896294\n",
            "epoch : 15, batch : 24 >> error : 0.009062414495111616\n",
            "epoch : 15, batch : 25 >> error : 0.008147475168535484\n",
            "epoch : 15, batch : 26 >> error : 0.008501572800309531\n",
            "epoch : 15, batch : 27 >> error : 0.007929322922298903\n",
            "epoch : 15, batch : 28 >> error : 0.008684020566728835\n",
            "epoch : 15, batch : 29 >> error : 0.008410648093557484\n",
            "epoch : 15, batch : 30 >> error : 0.009373554819363928\n",
            "epoch : 15, batch : 31 >> error : 0.007907816057157726\n",
            "epoch : 15, batch : 32 >> error : 0.009159961959512419\n",
            "epoch : 15, batch : 33 >> error : 0.0091912361590421\n",
            "epoch : 15, batch : 34 >> error : 0.009175877955759042\n",
            "epoch : 15, batch : 35 >> error : 0.009375326275450716\n",
            "epoch : 15, batch : 36 >> error : 0.009571142297466355\n",
            "epoch : 15, batch : 37 >> error : 0.00840112745730218\n",
            "epoch : 16, batch : 0 >> error : 0.009067993450144786\n",
            "epoch : 16, batch : 1 >> error : 0.007670517751221708\n",
            "epoch : 16, batch : 2 >> error : 0.008457753651661503\n",
            "epoch : 16, batch : 3 >> error : 0.00887630147372939\n",
            "epoch : 16, batch : 4 >> error : 0.009486878277779755\n",
            "epoch : 16, batch : 5 >> error : 0.008304722796086858\n",
            "epoch : 16, batch : 6 >> error : 0.009726650964334477\n",
            "epoch : 16, batch : 7 >> error : 0.009847846465235458\n",
            "epoch : 16, batch : 8 >> error : 0.009933015529890949\n",
            "epoch : 16, batch : 9 >> error : 0.008491523516876954\n",
            "epoch : 16, batch : 10 >> error : 0.008914161020091103\n",
            "epoch : 16, batch : 11 >> error : 0.008708465798736036\n",
            "epoch : 16, batch : 12 >> error : 0.009560969070177233\n",
            "epoch : 16, batch : 13 >> error : 0.009456829894628488\n",
            "epoch : 16, batch : 14 >> error : 0.007836457218900618\n",
            "epoch : 16, batch : 15 >> error : 0.008822577423506636\n",
            "epoch : 16, batch : 16 >> error : 0.007809438361940448\n",
            "epoch : 16, batch : 17 >> error : 0.009354240446622869\n",
            "epoch : 16, batch : 18 >> error : 0.010228608388473892\n",
            "epoch : 16, batch : 19 >> error : 0.009387696754058797\n",
            "epoch : 16, batch : 20 >> error : 0.00844390543511736\n",
            "epoch : 16, batch : 21 >> error : 0.008165530166866553\n",
            "epoch : 16, batch : 22 >> error : 0.00908726576559508\n",
            "epoch : 16, batch : 23 >> error : 0.009297645328350436\n",
            "epoch : 16, batch : 24 >> error : 0.009511419500528712\n",
            "epoch : 16, batch : 25 >> error : 0.008892345666818739\n",
            "epoch : 16, batch : 26 >> error : 0.008578667616912873\n",
            "epoch : 16, batch : 27 >> error : 0.008352950729738174\n",
            "epoch : 16, batch : 28 >> error : 0.008236934509562262\n",
            "epoch : 16, batch : 29 >> error : 0.008181507687284078\n",
            "epoch : 16, batch : 30 >> error : 0.008429497220911474\n",
            "epoch : 16, batch : 31 >> error : 0.007710524353906384\n",
            "epoch : 16, batch : 32 >> error : 0.009301991391064659\n",
            "epoch : 16, batch : 33 >> error : 0.0096167201954065\n",
            "epoch : 16, batch : 34 >> error : 0.008274245476118436\n",
            "epoch : 16, batch : 35 >> error : 0.00986021764290743\n",
            "epoch : 16, batch : 36 >> error : 0.008694866683095076\n",
            "epoch : 16, batch : 37 >> error : 0.007819725649400587\n",
            "epoch : 17, batch : 0 >> error : 0.008819430205764025\n",
            "epoch : 17, batch : 1 >> error : 0.009090211213926369\n",
            "epoch : 17, batch : 2 >> error : 0.010914128718883843\n",
            "epoch : 17, batch : 3 >> error : 0.009113032910520543\n",
            "epoch : 17, batch : 4 >> error : 0.009655518918376564\n",
            "epoch : 17, batch : 5 >> error : 0.0087242171511964\n",
            "epoch : 17, batch : 6 >> error : 0.008958488835818238\n",
            "epoch : 17, batch : 7 >> error : 0.008943535053033512\n",
            "epoch : 17, batch : 8 >> error : 0.00920185409960837\n",
            "epoch : 17, batch : 9 >> error : 0.008899592479600258\n",
            "epoch : 17, batch : 10 >> error : 0.009688583439474185\n",
            "epoch : 17, batch : 11 >> error : 0.010308183971213894\n",
            "epoch : 17, batch : 12 >> error : 0.009265647393243901\n",
            "epoch : 17, batch : 13 >> error : 0.00904764497204186\n",
            "epoch : 17, batch : 14 >> error : 0.007469449521727863\n",
            "epoch : 17, batch : 15 >> error : 0.00794273381469993\n",
            "epoch : 17, batch : 16 >> error : 0.00890298323079217\n",
            "epoch : 17, batch : 17 >> error : 0.007301652417038531\n",
            "epoch : 17, batch : 18 >> error : 0.008739599904209323\n",
            "epoch : 17, batch : 19 >> error : 0.00802967186546599\n",
            "epoch : 17, batch : 20 >> error : 0.007238826705966669\n",
            "epoch : 17, batch : 21 >> error : 0.00868683126482935\n",
            "epoch : 17, batch : 22 >> error : 0.009773740413902563\n",
            "epoch : 17, batch : 23 >> error : 0.008758037552377107\n",
            "epoch : 17, batch : 24 >> error : 0.009642445475269778\n",
            "epoch : 17, batch : 25 >> error : 0.010081218009077592\n",
            "epoch : 17, batch : 26 >> error : 0.007368818526911981\n",
            "epoch : 17, batch : 27 >> error : 0.008162797345666039\n",
            "epoch : 17, batch : 28 >> error : 0.009244642408069293\n",
            "epoch : 17, batch : 29 >> error : 0.009266010348650947\n",
            "epoch : 17, batch : 30 >> error : 0.0074881925532295675\n",
            "epoch : 17, batch : 31 >> error : 0.009252820850708035\n",
            "epoch : 17, batch : 32 >> error : 0.008325396808121359\n",
            "epoch : 17, batch : 33 >> error : 0.009247631439165044\n",
            "epoch : 17, batch : 34 >> error : 0.009021025975120792\n",
            "epoch : 17, batch : 35 >> error : 0.00875945340796674\n",
            "epoch : 17, batch : 36 >> error : 0.009527308755857992\n",
            "epoch : 17, batch : 37 >> error : 0.0074188907550115125\n",
            "epoch : 18, batch : 0 >> error : 0.008816211593862852\n",
            "epoch : 18, batch : 1 >> error : 0.008591242539496401\n",
            "epoch : 18, batch : 2 >> error : 0.008523103958416902\n",
            "epoch : 18, batch : 3 >> error : 0.00907767562905816\n",
            "epoch : 18, batch : 4 >> error : 0.007953546332359587\n",
            "epoch : 18, batch : 5 >> error : 0.009708259439141432\n",
            "epoch : 18, batch : 6 >> error : 0.008940316479508627\n",
            "epoch : 18, batch : 7 >> error : 0.009227551861119454\n",
            "epoch : 18, batch : 8 >> error : 0.009385463541545173\n",
            "epoch : 18, batch : 9 >> error : 0.008139669928430536\n",
            "epoch : 18, batch : 10 >> error : 0.009711643293048524\n",
            "epoch : 18, batch : 11 >> error : 0.008768080397437978\n",
            "epoch : 18, batch : 12 >> error : 0.009120969582298669\n",
            "epoch : 18, batch : 13 >> error : 0.009557629631064187\n",
            "epoch : 18, batch : 14 >> error : 0.007206139453799635\n",
            "epoch : 18, batch : 15 >> error : 0.008379521653839473\n",
            "epoch : 18, batch : 16 >> error : 0.00883367771878625\n",
            "epoch : 18, batch : 17 >> error : 0.00952328978868755\n",
            "epoch : 18, batch : 18 >> error : 0.009666585644753357\n",
            "epoch : 18, batch : 19 >> error : 0.008620993948438347\n",
            "epoch : 18, batch : 20 >> error : 0.009670544264753372\n",
            "epoch : 18, batch : 21 >> error : 0.008831279393812841\n",
            "epoch : 18, batch : 22 >> error : 0.009540227488111229\n",
            "epoch : 18, batch : 23 >> error : 0.008419837130882511\n",
            "epoch : 18, batch : 24 >> error : 0.009637778399108711\n",
            "epoch : 18, batch : 25 >> error : 0.008864840238196505\n",
            "epoch : 18, batch : 26 >> error : 0.008360554825134451\n",
            "epoch : 18, batch : 27 >> error : 0.009928507603990272\n",
            "epoch : 18, batch : 28 >> error : 0.00861669564915191\n",
            "epoch : 18, batch : 29 >> error : 0.008666400817873511\n",
            "epoch : 18, batch : 30 >> error : 0.00913634863949426\n",
            "epoch : 18, batch : 31 >> error : 0.008871147248671657\n",
            "epoch : 18, batch : 32 >> error : 0.009596709256982913\n",
            "epoch : 18, batch : 33 >> error : 0.00863556344194381\n",
            "epoch : 18, batch : 34 >> error : 0.00890173508950103\n",
            "epoch : 18, batch : 35 >> error : 0.007377164468457226\n",
            "epoch : 18, batch : 36 >> error : 0.007341338912830443\n",
            "epoch : 18, batch : 37 >> error : 0.008406341205006619\n",
            "epoch : 19, batch : 0 >> error : 0.008816729841922114\n",
            "epoch : 19, batch : 1 >> error : 0.009189079594373352\n",
            "epoch : 19, batch : 2 >> error : 0.008199224723039777\n",
            "epoch : 19, batch : 3 >> error : 0.010162069520409316\n",
            "epoch : 19, batch : 4 >> error : 0.008093698206068948\n",
            "epoch : 19, batch : 5 >> error : 0.008179994407050434\n",
            "epoch : 19, batch : 6 >> error : 0.009515334308276108\n",
            "epoch : 19, batch : 7 >> error : 0.008867721502962894\n",
            "epoch : 19, batch : 8 >> error : 0.008632900227763557\n",
            "epoch : 19, batch : 9 >> error : 0.007733303002355026\n",
            "epoch : 19, batch : 10 >> error : 0.00816879635195041\n",
            "epoch : 19, batch : 11 >> error : 0.008239829781744007\n",
            "epoch : 19, batch : 12 >> error : 0.010451489108930609\n",
            "epoch : 19, batch : 13 >> error : 0.010104154339693089\n",
            "epoch : 19, batch : 14 >> error : 0.008874994697404893\n",
            "epoch : 19, batch : 15 >> error : 0.008432695044569036\n",
            "epoch : 19, batch : 16 >> error : 0.0087012478819441\n",
            "epoch : 19, batch : 17 >> error : 0.008313245500227282\n",
            "epoch : 19, batch : 18 >> error : 0.008756513139249042\n",
            "epoch : 19, batch : 19 >> error : 0.00891262536428685\n",
            "epoch : 19, batch : 20 >> error : 0.00905311161756955\n",
            "epoch : 19, batch : 21 >> error : 0.009018054449422955\n",
            "epoch : 19, batch : 22 >> error : 0.009783795420635667\n",
            "epoch : 19, batch : 23 >> error : 0.009026836537424398\n",
            "epoch : 19, batch : 24 >> error : 0.010010266828881283\n",
            "epoch : 19, batch : 25 >> error : 0.00833764303658051\n",
            "epoch : 19, batch : 26 >> error : 0.008051508940863455\n",
            "epoch : 19, batch : 27 >> error : 0.00924789867846953\n",
            "epoch : 19, batch : 28 >> error : 0.009104704985180444\n",
            "epoch : 19, batch : 29 >> error : 0.007864767550589322\n",
            "epoch : 19, batch : 30 >> error : 0.007975593185260223\n",
            "epoch : 19, batch : 31 >> error : 0.0084487537577668\n",
            "epoch : 19, batch : 32 >> error : 0.008659365844386199\n",
            "epoch : 19, batch : 33 >> error : 0.008957237524549041\n",
            "epoch : 19, batch : 34 >> error : 0.009494634738076978\n",
            "epoch : 19, batch : 35 >> error : 0.008558774633269388\n",
            "epoch : 19, batch : 36 >> error : 0.009851929543930485\n",
            "epoch : 19, batch : 37 >> error : 0.0088995105598498\n"
          ],
          "name": "stdout"
        }
      ]
    },
    {
      "cell_type": "code",
      "metadata": {
        "colab": {
          "base_uri": "https://localhost:8080/"
        },
        "id": "PljbiR5qUIBI",
        "outputId": "e5198a2d-ad05-43cf-98b4-67d36ce3813c"
      },
      "source": [
        "print(m,c)"
      ],
      "execution_count": 28,
      "outputs": [
        {
          "output_type": "stream",
          "text": [
            "0.6375683083972383 0.06374560329415434\n"
          ],
          "name": "stdout"
        }
      ]
    },
    {
      "cell_type": "code",
      "metadata": {
        "colab": {
          "base_uri": "https://localhost:8080/",
          "height": 312
        },
        "id": "26fY98WIUPle",
        "outputId": "aeb16d0c-c0be-4272-bb51-2bb16b4c03d8"
      },
      "source": [
        "x1 = range(epochs*(number_of_batches+1))\n",
        "y1 = error_list\n",
        "\n",
        "plt.plot(x1,y1)\n",
        "plt.xlabel(\"number of updations\")\n",
        "plt.ylabel(\"error\")\n",
        "plt.title(\"error graph in case of Mini Batch GD\")"
      ],
      "execution_count": 29,
      "outputs": [
        {
          "output_type": "execute_result",
          "data": {
            "text/plain": [
              "Text(0.5, 1.0, 'error graph in case of Mini Batch GD')"
            ]
          },
          "metadata": {
            "tags": []
          },
          "execution_count": 29
        },
        {
          "output_type": "display_data",
          "data": {
            "image/png": "[encoded data removed]",
            "text/plain": [
              "<Figure size 432x288 with 1 Axes>"
            ]
          },
          "metadata": {
            "tags": [],
            "needs_background": "light"
          }
        }
      ]
    },
    {
      "cell_type": "code",
      "metadata": {
        "colab": {
          "base_uri": "https://localhost:8080/",
          "height": 298
        },
        "id": "wT3Bf5NnUTu4",
        "outputId": "42b69020-d6da-41af-ed8e-addabdec7d71"
      },
      "source": [
        "x2 = [a[0] for a in cleaned_data_test]\n",
        "y2 = [m*i+c for i in x2]\n",
        "\n",
        "x1 = [a[0] for a in cleaned_data_test]\n",
        "y1 = [a[1] for a in cleaned_data_test]\n",
        "\n",
        "plt.plot(x2,y2)\n",
        "\n",
        "plt.scatter(x1,y1)\n",
        "\n",
        "plt.title(\"line which is generated after training\")"
      ],
      "execution_count": 30,
      "outputs": [
        {
          "output_type": "execute_result",
          "data": {
            "text/plain": [
              "Text(0.5, 1.0, 'line which is generated after training')"
            ]
          },
          "metadata": {
            "tags": []
          },
          "execution_count": 30
        },
        {
          "output_type": "display_data",
          "data": {
            "image/png": "[encoded data removed]",
            "text/plain": [
              "<Figure size 432x288 with 1 Axes>"
            ]
          },
          "metadata": {
            "tags": [],
            "needs_background": "light"
          }
        }
      ]
    },
    {
      "cell_type": "code",
      "metadata": {
        "colab": {
          "base_uri": "https://localhost:8080/"
        },
        "id": "XsSFpou8UYpH",
        "outputId": "a289ecda-cfdf-4fa3-daf1-d777b7ee0b7d"
      },
      "source": [
        "train_error = error(cleaned_data_train,m,c)\n",
        "test_error = error(cleaned_data_test,m,c)\n",
        "\n",
        "print(\"train error is : \",train_error)\n",
        "print(\"test error is : \",test_error)"
      ],
      "execution_count": 31,
      "outputs": [
        {
          "output_type": "stream",
          "text": [
            "train error is :  0.008860203973782\n",
            "test error is :  0.00893260962248403\n"
          ],
          "name": "stdout"
        }
      ]
    },
    {
      "cell_type": "code",
      "metadata": {
        "colab": {
          "base_uri": "https://localhost:8080/"
        },
        "id": "Rf_9YUwRUcxW",
        "outputId": "1bc571aa-5a92-451a-8aea-9eaf60b172bf"
      },
      "source": [
        "input_area = int(input(\"enter the input area : \"))\n",
        "\n",
        "max_price = 7.700000e+06\n",
        "min_price = 7.500000e+04\n",
        "\n",
        "max_area = 13540.000000\n",
        "min_area = 290.000000\n",
        "\n",
        "input_area = (input_area - min_area)/(max_area-min_area)\n",
        "output_price = input_area*m+c\n",
        "\n",
        "output_price = output_price*(max_price-min_price)+min_price\n",
        "\n",
        "print(\"predicted house price is : \",output_price)"
      ],
      "execution_count": 32,
      "outputs": [
        {
          "output_type": "stream",
          "text": [
            "enter the input area : 1145\n",
            "predicted house price is :  874761.8772354547\n"
          ],
          "name": "stdout"
        }
      ]
    }
  ]
}